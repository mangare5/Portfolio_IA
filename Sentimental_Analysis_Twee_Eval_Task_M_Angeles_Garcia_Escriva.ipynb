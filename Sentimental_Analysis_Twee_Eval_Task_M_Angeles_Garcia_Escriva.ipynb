{
 "cells": [
  {
   "cell_type": "markdown",
   "id": "485fd268",
   "metadata": {},
   "source": [
    "# Clasificador Muiltietiqueta\n",
    "En este notebook vamos a utilizar varios métodos de ML y DL para entrenar un modelo clasificador multietiqueta para analizar una serie de tuits etiquetados con el sentimiento o sentimientos que expresan (análisis del sentimiento). Los posibles sentimientos son: <i>ira, expectación, indignación, miedo, alegría, amor, optimismo, pesimismo, tristeza, sorpresa y confianza</i>."
   ]
  },
  {
   "cell_type": "markdown",
   "id": "d0d411ad",
   "metadata": {},
   "source": [
    "## Adquisición y limpieza del texto"
   ]
  },
  {
   "cell_type": "code",
   "execution_count": 1,
   "id": "dc668185",
   "metadata": {},
   "outputs": [],
   "source": [
    "import pandas as pd\n",
    "import numpy as np\n",
    "pd.set_option('display.max_colwidth', None)\n",
    "\n",
    "# Leemos los datos\n",
    "df_train = pd.read_csv('sem_eval_train_es.csv', index_col=None, encoding = \"utf-8\")\n",
    "df_test = pd.read_csv('sem_eval_test_blank_es.csv', index_col=None, encoding = \"utf-8\")"
   ]
  },
  {
   "cell_type": "code",
   "execution_count": 2,
   "id": "0787039e",
   "metadata": {},
   "outputs": [
    {
     "data": {
      "text/html": [
       "<div>\n",
       "<style scoped>\n",
       "    .dataframe tbody tr th:only-of-type {\n",
       "        vertical-align: middle;\n",
       "    }\n",
       "\n",
       "    .dataframe tbody tr th {\n",
       "        vertical-align: top;\n",
       "    }\n",
       "\n",
       "    .dataframe thead th {\n",
       "        text-align: right;\n",
       "    }\n",
       "</style>\n",
       "<table border=\"1\" class=\"dataframe\">\n",
       "  <thead>\n",
       "    <tr style=\"text-align: right;\">\n",
       "      <th></th>\n",
       "      <th>ID</th>\n",
       "      <th>Tweet</th>\n",
       "      <th>anger</th>\n",
       "      <th>anticipation</th>\n",
       "      <th>disgust</th>\n",
       "      <th>fear</th>\n",
       "      <th>joy</th>\n",
       "      <th>love</th>\n",
       "      <th>optimism</th>\n",
       "      <th>pessimism</th>\n",
       "      <th>sadness</th>\n",
       "      <th>surprise</th>\n",
       "      <th>trust</th>\n",
       "    </tr>\n",
       "  </thead>\n",
       "  <tbody>\n",
       "    <tr>\n",
       "      <th>2126</th>\n",
       "      <td>2018-Es-03993</td>\n",
       "      <td>@AngeldebritoOk Por favor que cosa horrible</td>\n",
       "      <td>False</td>\n",
       "      <td>False</td>\n",
       "      <td>True</td>\n",
       "      <td>False</td>\n",
       "      <td>False</td>\n",
       "      <td>False</td>\n",
       "      <td>False</td>\n",
       "      <td>False</td>\n",
       "      <td>False</td>\n",
       "      <td>False</td>\n",
       "      <td>False</td>\n",
       "    </tr>\n",
       "    <tr>\n",
       "      <th>193</th>\n",
       "      <td>2018-Es-05862</td>\n",
       "      <td>Depresión rima con Bennington, coincidencia? No lo creo.</td>\n",
       "      <td>False</td>\n",
       "      <td>False</td>\n",
       "      <td>False</td>\n",
       "      <td>False</td>\n",
       "      <td>False</td>\n",
       "      <td>False</td>\n",
       "      <td>False</td>\n",
       "      <td>False</td>\n",
       "      <td>True</td>\n",
       "      <td>False</td>\n",
       "      <td>False</td>\n",
       "    </tr>\n",
       "    <tr>\n",
       "      <th>1953</th>\n",
       "      <td>2018-Es-00602</td>\n",
       "      <td>También se antoja que me haga suya la dvd, pero ese ya es otro asunto 😊</td>\n",
       "      <td>False</td>\n",
       "      <td>True</td>\n",
       "      <td>False</td>\n",
       "      <td>False</td>\n",
       "      <td>True</td>\n",
       "      <td>False</td>\n",
       "      <td>False</td>\n",
       "      <td>False</td>\n",
       "      <td>False</td>\n",
       "      <td>False</td>\n",
       "      <td>False</td>\n",
       "    </tr>\n",
       "    <tr>\n",
       "      <th>3209</th>\n",
       "      <td>2018-Es-00868</td>\n",
       "      <td>Los efectos en star wars me encantan, es genial ver cómo se esforzaban antes para que todo pareciera real.</td>\n",
       "      <td>False</td>\n",
       "      <td>False</td>\n",
       "      <td>False</td>\n",
       "      <td>False</td>\n",
       "      <td>True</td>\n",
       "      <td>False</td>\n",
       "      <td>True</td>\n",
       "      <td>False</td>\n",
       "      <td>False</td>\n",
       "      <td>False</td>\n",
       "      <td>False</td>\n",
       "    </tr>\n",
       "    <tr>\n",
       "      <th>2071</th>\n",
       "      <td>2018-Es-01016</td>\n",
       "      <td>@pajeranger Ay si, automaticamente al leer el mensaje más frívolo del mundo algún depresivo seguro se salva jajaja</td>\n",
       "      <td>False</td>\n",
       "      <td>False</td>\n",
       "      <td>False</td>\n",
       "      <td>False</td>\n",
       "      <td>True</td>\n",
       "      <td>False</td>\n",
       "      <td>False</td>\n",
       "      <td>False</td>\n",
       "      <td>False</td>\n",
       "      <td>False</td>\n",
       "      <td>False</td>\n",
       "    </tr>\n",
       "  </tbody>\n",
       "</table>\n",
       "</div>"
      ],
      "text/plain": [
       "                 ID  \\\n",
       "2126  2018-Es-03993   \n",
       "193   2018-Es-05862   \n",
       "1953  2018-Es-00602   \n",
       "3209  2018-Es-00868   \n",
       "2071  2018-Es-01016   \n",
       "\n",
       "                                                                                                                   Tweet  \\\n",
       "2126                                                                         @AngeldebritoOk Por favor que cosa horrible   \n",
       "193                                                             Depresión rima con Bennington, coincidencia? No lo creo.   \n",
       "1953                                             También se antoja que me haga suya la dvd, pero ese ya es otro asunto 😊   \n",
       "3209          Los efectos en star wars me encantan, es genial ver cómo se esforzaban antes para que todo pareciera real.   \n",
       "2071  @pajeranger Ay si, automaticamente al leer el mensaje más frívolo del mundo algún depresivo seguro se salva jajaja   \n",
       "\n",
       "      anger  anticipation  disgust   fear    joy   love  optimism  pessimism  \\\n",
       "2126  False         False     True  False  False  False     False      False   \n",
       "193   False         False    False  False  False  False     False      False   \n",
       "1953  False          True    False  False   True  False     False      False   \n",
       "3209  False         False    False  False   True  False      True      False   \n",
       "2071  False         False    False  False   True  False     False      False   \n",
       "\n",
       "      sadness  surprise  trust  \n",
       "2126    False     False  False  \n",
       "193      True     False  False  \n",
       "1953    False     False  False  \n",
       "3209    False     False  False  \n",
       "2071    False     False  False  "
      ]
     },
     "execution_count": 2,
     "metadata": {},
     "output_type": "execute_result"
    }
   ],
   "source": [
    "df_train.sample(5)"
   ]
  },
  {
   "cell_type": "code",
   "execution_count": 3,
   "id": "27a3f647",
   "metadata": {},
   "outputs": [
    {
     "data": {
      "text/html": [
       "<div>\n",
       "<style scoped>\n",
       "    .dataframe tbody tr th:only-of-type {\n",
       "        vertical-align: middle;\n",
       "    }\n",
       "\n",
       "    .dataframe tbody tr th {\n",
       "        vertical-align: top;\n",
       "    }\n",
       "\n",
       "    .dataframe thead th {\n",
       "        text-align: right;\n",
       "    }\n",
       "</style>\n",
       "<table border=\"1\" class=\"dataframe\">\n",
       "  <thead>\n",
       "    <tr style=\"text-align: right;\">\n",
       "      <th></th>\n",
       "      <th>ID</th>\n",
       "      <th>Tweet</th>\n",
       "    </tr>\n",
       "  </thead>\n",
       "  <tbody>\n",
       "    <tr>\n",
       "      <th>461</th>\n",
       "      <td>2018-Es-00648</td>\n",
       "      <td>Habíamos peleando con Andrea y me dice para tomar Fernet y se me pasó el enojo Jejee (amordehermanas)♥♥♥</td>\n",
       "    </tr>\n",
       "    <tr>\n",
       "      <th>469</th>\n",
       "      <td>2018-Es-05136</td>\n",
       "      <td>@josephsvocals en mi escuela lo hicieron y las profesoras hicieron un drama y los encerraron todo el recreo para hablarles de dios</td>\n",
       "    </tr>\n",
       "    <tr>\n",
       "      <th>150</th>\n",
       "      <td>2018-Es-00899</td>\n",
       "      <td>Lo sé, soy hermosa!: me siento genial</td>\n",
       "    </tr>\n",
       "    <tr>\n",
       "      <th>40</th>\n",
       "      <td>2018-Es-05188</td>\n",
       "      <td>Si como amiga me seguía los caprichos no me imagino que pasará ahora, próximamente termino tinturado</td>\n",
       "    </tr>\n",
       "    <tr>\n",
       "      <th>222</th>\n",
       "      <td>2018-Es-03829</td>\n",
       "      <td>Lo llame a mi novio que dormía, solamente para cagarme de risa dos hs</td>\n",
       "    </tr>\n",
       "  </tbody>\n",
       "</table>\n",
       "</div>"
      ],
      "text/plain": [
       "                ID  \\\n",
       "461  2018-Es-00648   \n",
       "469  2018-Es-05136   \n",
       "150  2018-Es-00899   \n",
       "40   2018-Es-05188   \n",
       "222  2018-Es-03829   \n",
       "\n",
       "                                                                                                                                  Tweet  \n",
       "461                            Habíamos peleando con Andrea y me dice para tomar Fernet y se me pasó el enojo Jejee (amordehermanas)♥♥♥  \n",
       "469  @josephsvocals en mi escuela lo hicieron y las profesoras hicieron un drama y los encerraron todo el recreo para hablarles de dios  \n",
       "150                                                                                               Lo sé, soy hermosa!: me siento genial  \n",
       "40                                Si como amiga me seguía los caprichos no me imagino que pasará ahora, próximamente termino tinturado   \n",
       "222                                                               Lo llame a mi novio que dormía, solamente para cagarme de risa dos hs  "
      ]
     },
     "execution_count": 3,
     "metadata": {},
     "output_type": "execute_result"
    }
   ],
   "source": [
    "df_test.sample(5)"
   ]
  },
  {
   "cell_type": "code",
   "execution_count": 4,
   "id": "5bc9d062",
   "metadata": {
    "scrolled": false
   },
   "outputs": [
    {
     "name": "stdout",
     "output_type": "stream",
     "text": [
      "<class 'pandas.core.frame.DataFrame'>\n",
      "RangeIndex: 3561 entries, 0 to 3560\n",
      "Data columns (total 13 columns):\n",
      " #   Column        Non-Null Count  Dtype \n",
      "---  ------        --------------  ----- \n",
      " 0   ID            3561 non-null   object\n",
      " 1   Tweet         3561 non-null   object\n",
      " 2   anger         3561 non-null   bool  \n",
      " 3   anticipation  3561 non-null   bool  \n",
      " 4   disgust       3561 non-null   bool  \n",
      " 5   fear          3561 non-null   bool  \n",
      " 6   joy           3561 non-null   bool  \n",
      " 7   love          3561 non-null   bool  \n",
      " 8   optimism      3561 non-null   bool  \n",
      " 9   pessimism     3561 non-null   bool  \n",
      " 10  sadness       3561 non-null   bool  \n",
      " 11  surprise      3561 non-null   bool  \n",
      " 12  trust         3561 non-null   bool  \n",
      "dtypes: bool(11), object(2)\n",
      "memory usage: 94.0+ KB\n"
     ]
    }
   ],
   "source": [
    "df_train.info()"
   ]
  },
  {
   "cell_type": "code",
   "execution_count": 5,
   "id": "bf91daed",
   "metadata": {},
   "outputs": [
    {
     "name": "stdout",
     "output_type": "stream",
     "text": [
      "<class 'pandas.core.frame.DataFrame'>\n",
      "RangeIndex: 679 entries, 0 to 678\n",
      "Data columns (total 2 columns):\n",
      " #   Column  Non-Null Count  Dtype \n",
      "---  ------  --------------  ----- \n",
      " 0   ID      679 non-null    object\n",
      " 1   Tweet   679 non-null    object\n",
      "dtypes: object(2)\n",
      "memory usage: 10.7+ KB\n"
     ]
    }
   ],
   "source": [
    "df_test.info()"
   ]
  },
  {
   "cell_type": "markdown",
   "id": "e9634ae2",
   "metadata": {},
   "source": [
    "Tras explorar los datos, hemos detectado que existen tuits que no han sido etiquetados, por lo tanto, llevamos a cabo una limpieza de datos para descartar aquellos tuits que no tengan etiqueta o simplemente filas que ni siquiera contengan tuits."
   ]
  },
  {
   "cell_type": "code",
   "execution_count": 6,
   "id": "2bccbbf6",
   "metadata": {},
   "outputs": [],
   "source": [
    "df_train_clean = df_train.dropna()"
   ]
  },
  {
   "cell_type": "code",
   "execution_count": 7,
   "id": "21697dce",
   "metadata": {},
   "outputs": [],
   "source": [
    "df_test_clean = df_test.dropna()"
   ]
  },
  {
   "cell_type": "markdown",
   "id": "c6e9091f",
   "metadata": {},
   "source": [
    "Creamos una nueva columna con la longitud de cada tweet para seguir explorando nuestros datos, esta vez enfocando la atención en el texto."
   ]
  },
  {
   "cell_type": "code",
   "execution_count": 8,
   "id": "09d293dd",
   "metadata": {},
   "outputs": [],
   "source": [
    "df_train_clean['pre_clean_len'] = df_train_clean.Tweet.str.len()"
   ]
  },
  {
   "cell_type": "code",
   "execution_count": 9,
   "id": "d642f1a7",
   "metadata": {},
   "outputs": [
    {
     "data": {
      "text/plain": [
       "count    3561.000000\n",
       "mean       77.048301\n",
       "std        35.753085\n",
       "min         9.000000\n",
       "25%        47.000000\n",
       "50%        73.000000\n",
       "75%       106.000000\n",
       "max       140.000000\n",
       "Name: pre_clean_len, dtype: float64"
      ]
     },
     "execution_count": 9,
     "metadata": {},
     "output_type": "execute_result"
    }
   ],
   "source": [
    "df_train_clean.pre_clean_len.describe()"
   ]
  },
  {
   "cell_type": "markdown",
   "id": "af9cf5ee",
   "metadata": {},
   "source": [
    "Lo representamos como diagrama de cajas:"
   ]
  },
  {
   "cell_type": "code",
   "execution_count": 10,
   "id": "2fb9da27",
   "metadata": {},
   "outputs": [
    {
     "data": {
      "image/png": "[encoded data removed]",
      "text/plain": [
       "<Figure size 360x360 with 1 Axes>"
      ]
     },
     "metadata": {
      "image/png": {
       "height": 299,
       "width": 350
      },
      "needs_background": "light"
     },
     "output_type": "display_data"
    }
   ],
   "source": [
    "import matplotlib.pyplot as plt\n",
    "plt.style.use('fivethirtyeight')\n",
    "\n",
    "%matplotlib inline\n",
    "%config InlineBackend.figure_format = 'retina'\n",
    "\n",
    "fig, ax = plt.subplots(figsize=(5, 5))\n",
    "plt.boxplot(df_train_clean.pre_clean_len)\n",
    "plt.show()"
   ]
  },
  {
   "cell_type": "markdown",
   "id": "0039e383",
   "metadata": {},
   "source": [
    "## Limpieza y preprocesado de texto\n",
    "A continuación iniciamos la limpieza y pre-procesado de la columna 'Tweet', la cual contiene los documentos con los que vamos a trabajar.<br>\n",
    "Hacemos un pequeño pre-procesado del texto antes de extraer las características:  \n",
    "- Quitamos las menciones y las URL del texto porque no aportan valor para el análisis de sentimientos.\n",
    "- Los hashtag sí que pueden aportar valor así que simplemente quitamos el #.\n",
    "- Quitamos los signos de puntuación y palabras menores de 3 caracteres.\n",
    "- Por último quitamos todos los símbolos de puntuación del texto (que forman parte de un token).\n",
    "- Lematizamos el texto y lo guardamos en otra columna para comparar resultados del clasificador. \n",
    "\n",
    "Para llevar a cabo este proceso hacemos uso de la librería Spacy y de las posibilidades que nos ofrece el conjunto de expresiones regulares."
   ]
  },
  {
   "cell_type": "code",
   "execution_count": 11,
   "id": "12754688",
   "metadata": {},
   "outputs": [],
   "source": [
    "import re, string, spacy\n",
    "nlp=spacy.load('es_core_news_md')"
   ]
  },
  {
   "cell_type": "code",
   "execution_count": 12,
   "id": "366fbcf9",
   "metadata": {},
   "outputs": [
    {
     "data": {
      "text/plain": [
       "spacy.tokens.doc.Doc"
      ]
     },
     "execution_count": 12,
     "metadata": {},
     "output_type": "execute_result"
    }
   ],
   "source": [
    "doc = nlp(df_train_clean.Tweet[15])\n",
    "type(doc)"
   ]
  },
  {
   "cell_type": "code",
   "execution_count": 13,
   "id": "6c051af6",
   "metadata": {},
   "outputs": [
    {
     "data": {
      "text/plain": [
       "@wichouya Que diosito te escuche jaja "
      ]
     },
     "execution_count": 13,
     "metadata": {},
     "output_type": "execute_result"
    }
   ],
   "source": [
    "doc"
   ]
  },
  {
   "cell_type": "code",
   "execution_count": 14,
   "id": "0ae551d1",
   "metadata": {},
   "outputs": [
    {
     "data": {
      "text/plain": [
       "'MENCION Que diosito te escuche jaja '"
      ]
     },
     "execution_count": 14,
     "metadata": {},
     "output_type": "execute_result"
    }
   ],
   "source": [
    "text = re.sub(r'@[\\w_]+', 'MENCION', df_train_clean.Tweet[15])\n",
    "text = re.sub(r'(http|ftp|https):\\/\\/([\\w_-]+(?:(?:\\.[\\w_-]+)+))([\\w.,@?^=%&:\\/~+#-]*[\\w@?^=%&\\/~+#-])', 'URL', text)\n",
    "text"
   ]
  },
  {
   "cell_type": "code",
   "execution_count": 15,
   "id": "996fb7db",
   "metadata": {},
   "outputs": [],
   "source": [
    "#lista de stop-words específicos de nuestro corpus (aproximación)\n",
    "stop_words = ['unos', 'unas', 'algún', 'alguna', 'algunos', 'algunas', 'ese', 'eso', 'así']\n",
    "\n",
    "pattern2 = re.compile('[{}]'.format(re.escape(string.punctuation))) #elimina símbolos de puntuación\n",
    "\n",
    "def clean_text(text, lemas=False):\n",
    "    \"\"\"Limpiamos las menciones y URL del texto. Luego convertimos en tokens\n",
    "    y eliminamos signos de puntuación.\n",
    "    Si lemas=True extraemos el lema, si no dejamos en minúsculas solamente.\n",
    "    Como salida volvemos a convertir los tokens en cadena de texto\"\"\"\n",
    "    text = re.sub(r'@[\\w_]+', 'MENCION', text) #elimina menciones y URL\n",
    "    text = re.sub(r'(http|ftp|https):\\/\\/([\\w_-]+(?:(?:\\.[\\w_-]+)+))([\\w.,@?^=%&:\\/~+#-]*[\\w@?^=%&\\/~+#-])', 'URL', text) #elimina menciones y URL\n",
    "\n",
    "    tokens = nlp(text)\n",
    "    tokens = [tok.lemma_.lower() if lemas else tok.lower_ for tok in tokens if not tok.is_punct]\n",
    "    filtered_tokens = [pattern2.sub('', tok) for tok in tokens if not (tok in stop_words) and len(tok)>2]\n",
    "    filtered_text = ' '.join(filtered_tokens)\n",
    "    \n",
    "    return filtered_text\n",
    "    "
   ]
  },
  {
   "cell_type": "markdown",
   "id": "e665f20a",
   "metadata": {},
   "source": [
    "Probamos el funcionamiento de estas funciones sobre un tweet de ejemplo:"
   ]
  },
  {
   "cell_type": "code",
   "execution_count": 16,
   "id": "5e4519cb",
   "metadata": {},
   "outputs": [
    {
     "name": "stdout",
     "output_type": "stream",
     "text": [
      "Original:\n",
      " @wichouya Que diosito te escuche jaja \n",
      "\n",
      "Limpiado:\n",
      " mencion que diosito escuche jaja\n",
      "\n",
      "Lematizado:\n",
      " mencion que diosito escuchar jajo\n"
     ]
    }
   ],
   "source": [
    "print('Original:\\n',df_train_clean.Tweet[15])\n",
    "print('\\nLimpiado:\\n',clean_text(df_train_clean.Tweet[15]))\n",
    "print('\\nLematizado:\\n',clean_text(df_train_clean.Tweet[15], lemas=True))"
   ]
  },
  {
   "cell_type": "markdown",
   "id": "29a65c95",
   "metadata": {},
   "source": [
    "Aplicamos la clase que limpia el texto (<i>clean_text</i>) a todos los tuits de nuestro dataset y creamos una columna nueva con el texto lematizado"
   ]
  },
  {
   "cell_type": "code",
   "execution_count": 17,
   "id": "c4f7cbc4",
   "metadata": {},
   "outputs": [],
   "source": [
    "df_train_clean[\"limpio\"]=df_train_clean['Tweet'].apply(clean_text, lemas=True)"
   ]
  },
  {
   "cell_type": "markdown",
   "id": "1f7cf67c",
   "metadata": {},
   "source": [
    "Descartamos los tuits que se han quedado vacíos tras la limpieza"
   ]
  },
  {
   "cell_type": "code",
   "execution_count": 18,
   "id": "0d8d62f1",
   "metadata": {},
   "outputs": [],
   "source": [
    "df_train_clean=df_train_clean[df_train_clean[\"limpio\"]!='']"
   ]
  },
  {
   "cell_type": "code",
   "execution_count": 19,
   "id": "bd4cb37a",
   "metadata": {},
   "outputs": [
    {
     "name": "stdout",
     "output_type": "stream",
     "text": [
      "<class 'pandas.core.frame.DataFrame'>\n",
      "Int64Index: 3561 entries, 0 to 3560\n",
      "Data columns (total 15 columns):\n",
      " #   Column         Non-Null Count  Dtype \n",
      "---  ------         --------------  ----- \n",
      " 0   ID             3561 non-null   object\n",
      " 1   Tweet          3561 non-null   object\n",
      " 2   anger          3561 non-null   bool  \n",
      " 3   anticipation   3561 non-null   bool  \n",
      " 4   disgust        3561 non-null   bool  \n",
      " 5   fear           3561 non-null   bool  \n",
      " 6   joy            3561 non-null   bool  \n",
      " 7   love           3561 non-null   bool  \n",
      " 8   optimism       3561 non-null   bool  \n",
      " 9   pessimism      3561 non-null   bool  \n",
      " 10  sadness        3561 non-null   bool  \n",
      " 11  surprise       3561 non-null   bool  \n",
      " 12  trust          3561 non-null   bool  \n",
      " 13  pre_clean_len  3561 non-null   int64 \n",
      " 14  limpio         3561 non-null   object\n",
      "dtypes: bool(11), int64(1), object(3)\n",
      "memory usage: 177.4+ KB\n"
     ]
    }
   ],
   "source": [
    "df_train_clean.info()"
   ]
  },
  {
   "cell_type": "code",
   "execution_count": 20,
   "id": "3375e019",
   "metadata": {},
   "outputs": [
    {
     "data": {
      "text/html": [
       "<div>\n",
       "<style scoped>\n",
       "    .dataframe tbody tr th:only-of-type {\n",
       "        vertical-align: middle;\n",
       "    }\n",
       "\n",
       "    .dataframe tbody tr th {\n",
       "        vertical-align: top;\n",
       "    }\n",
       "\n",
       "    .dataframe thead th {\n",
       "        text-align: right;\n",
       "    }\n",
       "</style>\n",
       "<table border=\"1\" class=\"dataframe\">\n",
       "  <thead>\n",
       "    <tr style=\"text-align: right;\">\n",
       "      <th></th>\n",
       "      <th>ID</th>\n",
       "      <th>Tweet</th>\n",
       "      <th>anger</th>\n",
       "      <th>anticipation</th>\n",
       "      <th>disgust</th>\n",
       "      <th>fear</th>\n",
       "      <th>joy</th>\n",
       "      <th>love</th>\n",
       "      <th>optimism</th>\n",
       "      <th>pessimism</th>\n",
       "      <th>sadness</th>\n",
       "      <th>surprise</th>\n",
       "      <th>trust</th>\n",
       "      <th>pre_clean_len</th>\n",
       "      <th>limpio</th>\n",
       "    </tr>\n",
       "  </thead>\n",
       "  <tbody>\n",
       "    <tr>\n",
       "      <th>0</th>\n",
       "      <td>2018-Es-01643</td>\n",
       "      <td>@aliciaenp Ajajjaa somos del clan twitteras perdidas pa eventos \"importantes\"</td>\n",
       "      <td>False</td>\n",
       "      <td>False</td>\n",
       "      <td>False</td>\n",
       "      <td>False</td>\n",
       "      <td>True</td>\n",
       "      <td>False</td>\n",
       "      <td>False</td>\n",
       "      <td>False</td>\n",
       "      <td>False</td>\n",
       "      <td>False</td>\n",
       "      <td>False</td>\n",
       "      <td>78</td>\n",
       "      <td>mencion ajajjaa ser del clan twittera perdido evento importante</td>\n",
       "    </tr>\n",
       "    <tr>\n",
       "      <th>1</th>\n",
       "      <td>2018-Es-05142</td>\n",
       "      <td>@AwadaNai la mala suerte del gato fichame la cara de help me pls</td>\n",
       "      <td>False</td>\n",
       "      <td>False</td>\n",
       "      <td>False</td>\n",
       "      <td>True</td>\n",
       "      <td>False</td>\n",
       "      <td>False</td>\n",
       "      <td>False</td>\n",
       "      <td>True</td>\n",
       "      <td>False</td>\n",
       "      <td>False</td>\n",
       "      <td>False</td>\n",
       "      <td>64</td>\n",
       "      <td>mencion malo suerte del gato fichame cara help pls</td>\n",
       "    </tr>\n",
       "    <tr>\n",
       "      <th>2</th>\n",
       "      <td>2018-Es-05379</td>\n",
       "      <td>@audiomano A mí tampoco me agrado mucho eso. Especialmente por tratarse de él. No hay justificación.</td>\n",
       "      <td>True</td>\n",
       "      <td>False</td>\n",
       "      <td>False</td>\n",
       "      <td>False</td>\n",
       "      <td>False</td>\n",
       "      <td>False</td>\n",
       "      <td>False</td>\n",
       "      <td>False</td>\n",
       "      <td>False</td>\n",
       "      <td>False</td>\n",
       "      <td>False</td>\n",
       "      <td>100</td>\n",
       "      <td>mencion tampoco agradar mucho especialmente por tratar él haber justificación</td>\n",
       "    </tr>\n",
       "    <tr>\n",
       "      <th>3</th>\n",
       "      <td>2018-Es-00208</td>\n",
       "      <td>Para llevar a los bebes de un lugar a otro debemos cantarles canciones...  Quiero cantarles Gunaa' nibiina (La llorona, en Zapoteco)</td>\n",
       "      <td>False</td>\n",
       "      <td>False</td>\n",
       "      <td>False</td>\n",
       "      <td>False</td>\n",
       "      <td>True</td>\n",
       "      <td>False</td>\n",
       "      <td>False</td>\n",
       "      <td>False</td>\n",
       "      <td>False</td>\n",
       "      <td>False</td>\n",
       "      <td>False</td>\n",
       "      <td>132</td>\n",
       "      <td>para llevar beb uno lugar otro deber cantar él canción querer cantar él gunaa nibiín lloronar zapoteco</td>\n",
       "    </tr>\n",
       "    <tr>\n",
       "      <th>4</th>\n",
       "      <td>2018-Es-01385</td>\n",
       "      <td>@DalasReview me encanta la terrible hipocresia y doble moral que tiene esta gente, claro, cuando ella te lo quita ILEGALMENTE no importa...</td>\n",
       "      <td>True</td>\n",
       "      <td>False</td>\n",
       "      <td>True</td>\n",
       "      <td>False</td>\n",
       "      <td>False</td>\n",
       "      <td>False</td>\n",
       "      <td>False</td>\n",
       "      <td>False</td>\n",
       "      <td>False</td>\n",
       "      <td>False</td>\n",
       "      <td>False</td>\n",
       "      <td>139</td>\n",
       "      <td>mencion encantar terrible hipocresia doble moral que tener este gente claro cuando quitar ilegalmente importar</td>\n",
       "    </tr>\n",
       "  </tbody>\n",
       "</table>\n",
       "</div>"
      ],
      "text/plain": [
       "              ID  \\\n",
       "0  2018-Es-01643   \n",
       "1  2018-Es-05142   \n",
       "2  2018-Es-05379   \n",
       "3  2018-Es-00208   \n",
       "4  2018-Es-01385   \n",
       "\n",
       "                                                                                                                                         Tweet  \\\n",
       "0                                                               @aliciaenp Ajajjaa somos del clan twitteras perdidas pa eventos \"importantes\"    \n",
       "1                                                                             @AwadaNai la mala suerte del gato fichame la cara de help me pls   \n",
       "2                                         @audiomano A mí tampoco me agrado mucho eso. Especialmente por tratarse de él. No hay justificación.   \n",
       "3         Para llevar a los bebes de un lugar a otro debemos cantarles canciones...  Quiero cantarles Gunaa' nibiina (La llorona, en Zapoteco)   \n",
       "4  @DalasReview me encanta la terrible hipocresia y doble moral que tiene esta gente, claro, cuando ella te lo quita ILEGALMENTE no importa...   \n",
       "\n",
       "   anger  anticipation  disgust   fear    joy   love  optimism  pessimism  \\\n",
       "0  False         False    False  False   True  False     False      False   \n",
       "1  False         False    False   True  False  False     False       True   \n",
       "2   True         False    False  False  False  False     False      False   \n",
       "3  False         False    False  False   True  False     False      False   \n",
       "4   True         False     True  False  False  False     False      False   \n",
       "\n",
       "   sadness  surprise  trust  pre_clean_len  \\\n",
       "0    False     False  False             78   \n",
       "1    False     False  False             64   \n",
       "2    False     False  False            100   \n",
       "3    False     False  False            132   \n",
       "4    False     False  False            139   \n",
       "\n",
       "                                                                                                           limpio  \n",
       "0                                                 mencion ajajjaa ser del clan twittera perdido evento importante  \n",
       "1                                                              mencion malo suerte del gato fichame cara help pls  \n",
       "2                                   mencion tampoco agradar mucho especialmente por tratar él haber justificación  \n",
       "3          para llevar beb uno lugar otro deber cantar él canción querer cantar él gunaa nibiín lloronar zapoteco  \n",
       "4  mencion encantar terrible hipocresia doble moral que tener este gente claro cuando quitar ilegalmente importar  "
      ]
     },
     "execution_count": 20,
     "metadata": {},
     "output_type": "execute_result"
    }
   ],
   "source": [
    "df_train_clean.head()"
   ]
  },
  {
   "cell_type": "markdown",
   "id": "b5d38785",
   "metadata": {},
   "source": [
    "Tras la limpieza echamos un vistazo a los porcentajes que representan cada una de las clases dentro del dataset para tener una idea de la distribución de nuestras muestras."
   ]
  },
  {
   "cell_type": "code",
   "execution_count": 21,
   "id": "b8cea884",
   "metadata": {},
   "outputs": [
    {
     "name": "stdout",
     "output_type": "stream",
     "text": [
      "anger\n",
      "Class=1, n=1155 (32.435%)\n",
      "anticipation\n",
      "Class=2, n=415 (11.654%)\n",
      "disgust\n",
      "Class=3, n=521 (14.631%)\n",
      "fear\n",
      "Class=4, n=373 (10.475%)\n",
      "joy\n",
      "Class=5, n=1087 (30.525%)\n",
      "love\n",
      "Class=6, n=261 (7.329%)\n",
      "optimism\n",
      "Class=7, n=378 (10.615%)\n",
      "pessimism\n",
      "Class=8, n=578 (16.231%)\n",
      "sadness\n",
      "Class=9, n=845 (23.729%)\n",
      "surprise\n",
      "Class=10, n=169 (4.746%)\n",
      "trust\n",
      "Class=11, n=175 (4.914%)\n"
     ]
    },
    {
     "data": {
      "image/png": "[encoded data removed]",
      "text/plain": [
       "<Figure size 432x288 with 1 Axes>"
      ]
     },
     "metadata": {
      "image/png": {
       "height": 244,
       "width": 430
      },
      "needs_background": "light"
     },
     "output_type": "display_data"
    }
   ],
   "source": [
    "from collections import Counter\n",
    "\n",
    "df_train_clean_y = df_train_clean.drop(labels = ['pre_clean_len', 'limpio', 'ID', 'Tweet'], axis=1)\n",
    "\n",
    "classes = 0\n",
    "for col in df_train_clean_y:\n",
    "    print(col)\n",
    "    counter = Counter(df_train_clean[col])\n",
    "    for k,v in counter.items():\n",
    "        if k == True:\n",
    "            classes += 1\n",
    "            per = v / len(df_train_clean[col]) * 100\n",
    "            print('Class=%d, n=%d (%.3f%%)' % (classes, v, per))\n",
    "            plt.bar(counter[True], counter.values())\n",
    "        \n"
   ]
  },
  {
   "cell_type": "markdown",
   "id": "320077d8",
   "metadata": {},
   "source": [
    "Siendo un problema multietiqueta, el estudio del equilibrio entre clases es diferente, ya que no se trata de estudiar cuantos tuits tienen la misma etiqueta, sino que un mismo tuit puede tener varias etiquetas. Si estudiáramos las etiquetas de forma agrupada, tendríamos un gran problema de desequilibrio, ya que de algunos grupos de etiquetas habría muy pocas muestras o incluso solo una. En cualquier caso, el desequilibrio en el número de muestras de cada clase es también evidente, lo cual nos llevará a obtener muy malos resultados en nuestra clasificación, especialmente en las clases con menos muestras."
   ]
  },
  {
   "cell_type": "markdown",
   "id": "7313d827",
   "metadata": {},
   "source": [
    "## Extracción de características y modelado del clasificador\n",
    "Para afrontar la naturaleza multietiqueta del problema, en la categoría de ML usaremos la librería scikit-multilearn la cual está integrada en el ecosistema scikit-learn. Con la ayuda de esta librería entrenaremos 2 modelos de ML y compararemos sus resultados."
   ]
  },
  {
   "cell_type": "code",
   "execution_count": 22,
   "id": "2ee7d7aa",
   "metadata": {},
   "outputs": [],
   "source": [
    "import nltk\n",
    "from nltk.corpus import stopwords\n",
    "from nltk.stem.snowball import SnowballStemmer\n",
    "from bs4 import BeautifulSoup\n",
    "import re\n",
    "import csv\n",
    "from tqdm import tqdm\n",
    "from sklearn.model_selection import train_test_split\n",
    "from sklearn.feature_extraction.text import TfidfVectorizer\n",
    "from sklearn.metrics import f1_score\n",
    "from sklearn.metrics import accuracy_score\n",
    "from sklearn.metrics import hamming_loss\n",
    "from skmultilearn.problem_transform import BinaryRelevance\n",
    "from sklearn.naive_bayes import GaussianNB\n",
    "from skmultilearn.problem_transform import ClassifierChain\n",
    "from sklearn.linear_model import LogisticRegression\n",
    "from skmultilearn.problem_transform import LabelPowerset\n",
    "from skmultilearn.adapt import MLkNN\n",
    "from scipy.sparse import csr_matrix, lil_matrix\n",
    "from sklearn.preprocessing import MultiLabelBinarizer\n",
    "import pickle"
   ]
  },
  {
   "cell_type": "markdown",
   "id": "254cfdc4",
   "metadata": {},
   "source": [
    "Lo primero que hacemos es dividir nuestro dataset de entrenamiento en dos particiones: train y validation. A continuación, convertimos los datos de texto en matrices TF-IDF llevando así a cabo la extracción de características. Añadiremos los n-gramas con una longitud máxima de 3 como posibles características."
   ]
  },
  {
   "cell_type": "code",
   "execution_count": 23,
   "id": "4a014ec0",
   "metadata": {},
   "outputs": [],
   "source": [
    "train, val = train_test_split(df_train_clean, random_state=42, test_size=0.30, shuffle=True)\n",
    "train_text = train['limpio'].values.astype('U')\n",
    "val_text = val['limpio'].values.astype('U')\n",
    "\n",
    "vectorizer = TfidfVectorizer(strip_accents='unicode', analyzer='word', ngram_range=(1,3), norm='l2')\n",
    "vectorizer.fit(train_text)\n",
    "vectorizer.fit(val_text)\n",
    "x_train = vectorizer.transform(train_text)\n",
    "y_train = train.drop(labels = ['pre_clean_len', 'limpio', 'ID', 'Tweet'], axis=1)\n",
    "x_val = vectorizer.transform(val_text)\n",
    "y_val = val.drop(labels = ['pre_clean_len', 'limpio', 'ID', 'Tweet'], axis=1)"
   ]
  },
  {
   "cell_type": "markdown",
   "id": "bb5ad322",
   "metadata": {},
   "source": [
    "## Clasificadores basados en técnicas de ML\n",
    "<br>\n",
    "Vamos a probar dos modelos distintos de ML para problemas de multietiqueta: <b>Label Powerset y Classifier Chain Model</b><br>\n",
    "Evaluaremos los resultados usando las siguientes métricas:<br>\n",
    "- Accuracy: nos muestra la precisión del modelo pero se ve ampliamente afectada cuando existe una gran cantidad de falsos positivos.<br>\n",
    "- F1 score: recomendada en casos de distribuciones desbalanceadas, como es nuestro caso.<br>\n",
    "- Hamming loss: indica la fracción de etiquetas que no se han predicho correctamente, lo cual aporta información adicional para los problemas con datasets desbalanceados como el nuestro.\n"
   ]
  },
  {
   "cell_type": "markdown",
   "id": "28555ef3",
   "metadata": {},
   "source": [
    "### Label Powerset\n",
    "Este enfoque mapea cada combinación de etiquetas como si fuera una sola etiqueta y entrena un solo clasificador. La parte buena es que tiene en cuenta la correlación entre etiquetas, pero sin embargo, requiere alta capacidad computacioinal y puede producir un gran desequilibrio entre clases debido a que algunas de ellas no tendrán apenas muestras."
   ]
  },
  {
   "cell_type": "code",
   "execution_count": 24,
   "id": "af6871c9",
   "metadata": {},
   "outputs": [
    {
     "name": "stdout",
     "output_type": "stream",
     "text": [
      "Accuracy =  0.17586529466791395\n",
      "F1 score =  0.33298574904414324\n",
      "Hamming loss =  0.16319414916234373\n"
     ]
    }
   ],
   "source": [
    "#\n",
    "lp_classifier = LabelPowerset(LogisticRegression())\n",
    "lp_classifier.fit(x_train, y_train)\n",
    "lp_predictions = lp_classifier.predict(x_val)\n",
    "print(\"Accuracy = \",accuracy_score(y_val,lp_predictions))\n",
    "print(\"F1 score = \",f1_score(y_val,lp_predictions, average=\"micro\"))\n",
    "print(\"Hamming loss = \",hamming_loss(y_val,lp_predictions))"
   ]
  },
  {
   "cell_type": "markdown",
   "id": "88ac266f",
   "metadata": {},
   "source": [
    "### Classifier Chain\n",
    "Este método aprende a clasificar como si fuera un método de clasificación binaria, sin embargo todos los clasificadores están conectados en una cadena. Al igual que el anterior este modelo también tiene en cuenta la correlación de etiquetas y en este caso, la carga computacional no es tan elevada. No obstante, la precisión depende mucho del orden en el que se predicen las etiquetas, de hecho este orden tiene un gran impacto en los resultados.<br>\n",
    "<br>\n",
    "Vamos a predecir la probabilidad de cada clase y después revisaremos el umbral (por defecto es 0.5). De esta forma distinguiremos entre 0/1 para llevar a cabo la asignación de la etiqueta. "
   ]
  },
  {
   "cell_type": "code",
   "execution_count": 25,
   "id": "6d50ccb9",
   "metadata": {},
   "outputs": [
    {
     "name": "stdout",
     "output_type": "stream",
     "text": [
      "t = 0.05\n",
      "Accuracy =  0.0\n",
      "F1 =  0.2785199578981459\n",
      "Hamming loss =  0.7578025342291012\n",
      "t = 0.06\n",
      "Accuracy =  0.0\n",
      "F1 =  0.28870981717355515\n",
      "Hamming loss =  0.6981035802364146\n",
      "t = 0.07\n",
      "Accuracy =  0.0\n",
      "F1 =  0.30210000941708254\n",
      "Hamming loss =  0.6302406667233609\n",
      "t = 0.08\n",
      "Accuracy =  0.0\n",
      "F1 =  0.3172586188938652\n",
      "Hamming loss =  0.557445361000085\n",
      "t = 0.09\n",
      "Accuracy =  0.0\n",
      "F1 =  0.33151059466848937\n",
      "Hamming loss =  0.499022025682456\n",
      "t = 0.1\n",
      "Accuracy =  0.0\n",
      "F1 =  0.3470062446430757\n",
      "Hamming loss =  0.4535249596054086\n",
      "t = 0.11\n",
      "Accuracy =  0.0\n",
      "F1 =  0.36161879895561355\n",
      "Hamming loss =  0.4158516880687133\n",
      "t = 0.12\n",
      "Accuracy =  0.0\n",
      "F1 =  0.37506987143655673\n",
      "Hamming loss =  0.3803044476571137\n",
      "t = 0.13\n",
      "Accuracy =  0.0\n",
      "F1 =  0.38554216867469887\n",
      "Hamming loss =  0.3513053831108087\n",
      "t = 0.14\n",
      "Accuracy =  0.0009354536950420954\n",
      "F1 =  0.39549788963576676\n",
      "Hamming loss =  0.32885449442979847\n",
      "t = 0.15\n",
      "Accuracy =  0.0037418147801683817\n",
      "F1 =  0.399805131536213\n",
      "Hamming loss =  0.31431244153414406\n",
      "t = 0.16\n",
      "Accuracy =  0.0037418147801683817\n",
      "F1 =  0.40093395597064707\n",
      "Hamming loss =  0.30546815205374606\n",
      "t = 0.17\n",
      "Accuracy =  0.006548175865294668\n",
      "F1 =  0.4019724536643428\n",
      "Hamming loss =  0.29909005867845906\n",
      "t = 0.18\n",
      "Accuracy =  0.006548175865294668\n",
      "F1 =  0.40186915887850466\n",
      "Hamming loss =  0.29390254273322564\n",
      "t = 0.19\n",
      "Accuracy =  0.009354536950420954\n",
      "F1 =  0.40049313138429027\n",
      "Hamming loss =  0.2894803979930266\n",
      "t = 0.2\n",
      "Accuracy =  0.011225444340505144\n",
      "F1 =  0.4017937219730942\n",
      "Hamming loss =  0.28361255208776254\n",
      "t = 0.21\n",
      "Accuracy =  0.01777362020579981\n",
      "F1 =  0.4037267080745342\n",
      "Hamming loss =  0.27757462369249086\n",
      "t = 0.22\n",
      "Accuracy =  0.02245088868101029\n",
      "F1 =  0.40238228177926666\n",
      "Hamming loss =  0.27306743770728803\n",
      "t = 0.23\n",
      "Accuracy =  0.02806361085126286\n",
      "F1 =  0.4031860421012706\n",
      "Hamming loss =  0.26762479802704314\n",
      "t = 0.24\n",
      "Accuracy =  0.040224508886810104\n",
      "F1 =  0.406298600311042\n",
      "Hamming loss =  0.2597159622416872\n",
      "t = 0.25\n",
      "Accuracy =  0.052385406922357346\n",
      "F1 =  0.4096337579617835\n",
      "Hamming loss =  0.2522323326813505\n",
      "t = 0.26\n",
      "Accuracy =  0.05986903648269411\n",
      "F1 =  0.40921133075198696\n",
      "Hamming loss =  0.24653456926609404\n",
      "t = 0.27\n",
      "Accuracy =  0.06922357343311505\n",
      "F1 =  0.41065436241610737\n",
      "Hamming loss =  0.23896589846075347\n",
      "t = 0.28\n",
      "Accuracy =  0.07670720299345182\n",
      "F1 =  0.4146447140381282\n",
      "Hamming loss =  0.22978144400034017\n",
      "t = 0.29\n",
      "Accuracy =  0.08044901777362021\n",
      "F1 =  0.4145470771976796\n",
      "Hamming loss =  0.22314822689004166\n",
      "t = 0.3\n",
      "Accuracy =  0.08699719363891488\n",
      "F1 =  0.4069981583793739\n",
      "Hamming loss =  0.21906624712985798\n",
      "t = 0.31\n",
      "Accuracy =  0.09167446211412535\n",
      "F1 =  0.4035046175704476\n",
      "Hamming loss =  0.21421889616463985\n",
      "t = 0.32\n",
      "Accuracy =  0.09541627689429373\n",
      "F1 =  0.3980440097799511\n",
      "Hamming loss =  0.20937154519942172\n",
      "t = 0.33\n",
      "Accuracy =  0.10009354536950421\n",
      "F1 =  0.3942814145974417\n",
      "Hamming loss =  0.20537460668424184\n",
      "t = 0.34\n",
      "Accuracy =  0.1019644527595884\n",
      "F1 =  0.38790673840635415\n",
      "Hamming loss =  0.20316353431414236\n",
      "t = 0.35\n",
      "Accuracy =  0.10757717492984098\n",
      "F1 =  0.3781094527363184\n",
      "Hamming loss =  0.20197295688408878\n",
      "t = 0.36\n",
      "Accuracy =  0.10851262862488306\n",
      "F1 =  0.3707264957264958\n",
      "Hamming loss =  0.20035717322901608\n",
      "t = 0.37\n",
      "Accuracy =  0.11506080449017773\n",
      "F1 =  0.3653217011995638\n",
      "Hamming loss =  0.1979760183689089\n",
      "t = 0.38\n",
      "Accuracy =  0.11786716557530402\n",
      "F1 =  0.36081043574798777\n",
      "Hamming loss =  0.19584998724381325\n",
      "t = 0.39\n",
      "Accuracy =  0.12067352666043031\n",
      "F1 =  0.3549759001984689\n",
      "Hamming loss =  0.1934688323837061\n",
      "t = 0.4\n",
      "Accuracy =  0.12722170252572498\n",
      "F1 =  0.3485068135691504\n",
      "Hamming loss =  0.19108767752359895\n",
      "t = 0.41\n",
      "Accuracy =  0.13189897100093545\n",
      "F1 =  0.3452168746286393\n",
      "Hamming loss =  0.1874309039884344\n",
      "t = 0.42\n",
      "Accuracy =  0.13938260056127222\n",
      "F1 =  0.3448275862068966\n",
      "Hamming loss =  0.18258355302321627\n",
      "t = 0.43\n",
      "Accuracy =  0.1449953227315248\n",
      "F1 =  0.3379396984924623\n",
      "Hamming loss =  0.179266944468067\n",
      "t = 0.44\n",
      "Accuracy =  0.15247895229186156\n",
      "F1 =  0.33148087610330174\n",
      "Hamming loss =  0.17390934603282593\n",
      "t = 0.45\n",
      "Accuracy =  0.15902712815715622\n",
      "F1 =  0.32791327913279134\n",
      "Hamming loss =  0.16872183008759248\n",
      "t = 0.46\n",
      "Accuracy =  0.1646398503274088\n",
      "F1 =  0.3226488200070447\n",
      "Hamming loss =  0.16353431414235906\n",
      "t = 0.47\n",
      "Accuracy =  0.166510757717493\n",
      "F1 =  0.3161791928915217\n",
      "Hamming loss =  0.1570711795220682\n",
      "t = 0.48\n",
      "Accuracy =  0.17025257249766138\n",
      "F1 =  0.3031709203402939\n",
      "Hamming loss =  0.15324432349689598\n",
      "t = 0.49\n",
      "Accuracy =  0.16557530402245088\n",
      "F1 =  0.29217110573042776\n",
      "Hamming loss =  0.1491623437367123\n",
      "t = 0.5\n",
      "Accuracy =  0.166510757717493\n",
      "F1 =  0.2818679007151872\n",
      "Hamming loss =  0.14516540522153246\n",
      "t = 0.51\n",
      "Accuracy =  0.1627689429373246\n",
      "F1 =  0.26320346320346316\n",
      "Hamming loss =  0.1447401989965133\n",
      "t = 0.52\n",
      "Accuracy =  0.15528531337698784\n",
      "F1 =  0.245409762651142\n",
      "Hamming loss =  0.14329449783144826\n",
      "t = 0.53\n",
      "Accuracy =  0.15341440598690365\n",
      "F1 =  0.2303086135421465\n",
      "Hamming loss =  0.1421039204013947\n",
      "t = 0.54\n",
      "Accuracy =  0.14405986903648269\n",
      "F1 =  0.2066350710900474\n",
      "Hamming loss =  0.14235904413640615\n",
      "t = 0.55\n",
      "Accuracy =  0.1384471468662301\n",
      "F1 =  0.19112627986348124\n",
      "Hamming loss =  0.14108342546134875\n",
      "t = 0.56\n",
      "Accuracy =  0.13189897100093545\n",
      "F1 =  0.16923842707814835\n",
      "Hamming loss =  0.14193383791138703\n",
      "t = 0.57\n",
      "Accuracy =  0.12628624883068287\n",
      "F1 =  0.15447154471544713\n",
      "Hamming loss =  0.14150863168636788\n",
      "t = 0.58\n",
      "Accuracy =  0.1234798877455566\n",
      "F1 =  0.13250517598343683\n",
      "Hamming loss =  0.14252912662641382\n",
      "t = 0.59\n",
      "Accuracy =  0.11506080449017773\n",
      "F1 =  0.11629125196437927\n",
      "Hamming loss =  0.1434645803214559\n"
     ]
    },
    {
     "data": {
      "image/png": "[encoded data removed]",
      "text/plain": [
       "<Figure size 864x432 with 1 Axes>"
      ]
     },
     "metadata": {
      "image/png": {
       "height": 391,
       "width": 803
      }
     },
     "output_type": "display_data"
    }
   ],
   "source": [
    "#for the next classifier we need to remove from y-train, y-val categories which equal 0 for all train samples\n",
    "y_train = train.drop(labels = ['pre_clean_len', 'limpio', 'ID', 'Tweet'], axis=1)\n",
    "selected_labels = y_train.columns[y_train.sum(axis = 0, skipna = True) > 0].tolist()\n",
    "y_val = val.drop(labels = ['pre_clean_len', 'limpio', 'ID', 'Tweet'], axis=1)\n",
    "y_train = y_train.filter(selected_labels, axis=1)\n",
    "y_val = y_val.filter(selected_labels, axis=1)\n",
    "x_train = vectorizer.transform(train_text)\n",
    "x_val = vectorizer.transform(val_text)\n",
    "cc_classifier = ClassifierChain(LogisticRegression(solver='newton-cg'))\n",
    "cc_classifier.fit(x_train, y_train)\n",
    "cc_predictions_proba = cc_classifier.predict_proba(x_val)\n",
    "#for plotting metrics as a function of threashold\n",
    "th = []\n",
    "f = []\n",
    "ham = []\n",
    "ac = []\n",
    "for t in range (5,60): # threshold value\n",
    "    y_pred_new = (cc_predictions_proba >= t/100).astype(int)\n",
    "    print(\"t =\" ,t/100)\n",
    "    print(\"Accuracy = \",accuracy_score(y_val,y_pred_new))\n",
    "    print(\"F1 = \",f1_score(y_val,y_pred_new, average=\"micro\"))\n",
    "    print(\"Hamming loss = \",hamming_loss(y_val,y_pred_new))\n",
    "    th.append(t)\n",
    "    ac.append(accuracy_score(y_val,y_pred_new))\n",
    "    f.append(f1_score(y_val,y_pred_new, average=\"micro\"))\n",
    "    ham.append(hamming_loss(y_val,y_pred_new))\n",
    "    plt.rcParams[\"figure.figsize\"] = (12,6)\n",
    "with plt.style.context('ggplot'):\n",
    "    plt.plot(th, f)\n",
    "    plt.plot(th, ham)\n",
    "    plt.plot(th, ac)\n",
    "    plt.legend(['F1', 'Hamming loss', 'Accuracy'], loc='center left', fontsize = 14)\n",
    "    plt.ylabel(\"metrics\", fontsize = 14)\n",
    "    plt.xlabel(\"threshold\", fontsize = 14)\n",
    "    plt.title(\"Classfier Chain Model\", fontsize = 18)\n",
    "plt.show()"
   ]
  },
  {
   "cell_type": "markdown",
   "id": "e181cc1f",
   "metadata": {},
   "source": [
    "El diagrama muestra que el punto óptimo del umbral es alrededor de 0.4, en ese punto el F1 score está cerca de su máximo 0.41, el accuracy es creciente y el Hamming loss decreciente."
   ]
  },
  {
   "cell_type": "markdown",
   "id": "dce84faf",
   "metadata": {},
   "source": [
    "Tras revisar las métricas de ambos modelos, podemos concluir que ambos han obtenido resultados bastante precarios, pero el modelo Classifier Chain obtiene unos resultados del F1 score ligeramente superiores por tanto concluiríamos que en caso de usar un modelo de ML, la mejor opción para este dataset sería el modelo Classifier Chain."
   ]
  },
  {
   "cell_type": "markdown",
   "id": "f06965eb",
   "metadata": {},
   "source": [
    "## Clasificadores basados en técnicas de DL"
   ]
  },
  {
   "cell_type": "markdown",
   "id": "d6116c6c",
   "metadata": {},
   "source": [
    "### Modelo RNN\n",
    "Las redes recurrentes nos proporcionan información de los distintos elementos del documento de forma secuencial, permitiendo que nuestro modelo aprenda teniendo en cuenta parte del contexto."
   ]
  },
  {
   "cell_type": "code",
   "execution_count": 26,
   "id": "73585b3a",
   "metadata": {},
   "outputs": [],
   "source": [
    "from tensorflow.keras.models import Sequential\n",
    "from tensorflow.keras.layers import LSTM, Dense, Dropout, SpatialDropout1D, GRU\n",
    "from tensorflow.keras.layers import Embedding\n",
    "from tensorflow.keras.preprocessing.text import Tokenizer\n",
    "from tensorflow.keras.preprocessing.sequence import pad_sequences\n",
    "from tensorflow.keras.callbacks import ModelCheckpoint\n",
    "import re, string, spacy"
   ]
  },
  {
   "cell_type": "code",
   "execution_count": 27,
   "id": "a43cd343",
   "metadata": {},
   "outputs": [],
   "source": [
    "#Definimos características de la capa RNN\n",
    "\n",
    "RNN_DIM = 50 #Nº de neuronas en la capa RNN\n",
    "RNN_layer = LSTM "
   ]
  },
  {
   "cell_type": "code",
   "execution_count": 28,
   "id": "ffcc0efc",
   "metadata": {},
   "outputs": [
    {
     "name": "stdout",
     "output_type": "stream",
     "text": [
      "Tamaño vocabulario: 1711\n"
     ]
    }
   ],
   "source": [
    "#Estimamos el tamaño de vocabulario (parabras con un min_df de 2 en TRAIN)\n",
    "from sklearn.feature_extraction.text import CountVectorizer\n",
    "\n",
    "cv = CountVectorizer(min_df=2)\n",
    "cv.fit(train['limpio'])\n",
    "max_features = len(cv.get_feature_names_out())\n",
    "print('Tamaño vocabulario: {}'.format(max_features))"
   ]
  },
  {
   "cell_type": "code",
   "execution_count": 29,
   "id": "d25a10b6",
   "metadata": {},
   "outputs": [
    {
     "name": "stdout",
     "output_type": "stream",
     "text": [
      "Found 5398 unique tokens.\n"
     ]
    }
   ],
   "source": [
    "#Definimos el espacio de características \n",
    "MAX_NB_WORDS = max_features+2 #hay que considerar 1 término más para el OOV y otro para el 0\n",
    "tokenizer = Tokenizer(num_words=MAX_NB_WORDS, split=' ', oov_token='OOV')\n",
    "tokenizer.fit_on_texts(train['limpio'].values)\n",
    "X_train = tokenizer.texts_to_sequences(train['limpio'].values)\n",
    "X_train = pad_sequences(X_train, padding='post')\n",
    "word_index = tokenizer.word_index\n",
    "print('Found %s unique tokens.' % len(word_index))\n",
    "MAX_SEQUENCE_LENGTH = X_train.shape[1]\n",
    "\n",
    "X_val = tokenizer.texts_to_sequences(val['limpio'].values)\n",
    "X_val = pad_sequences(X_val, padding='post', maxlen=MAX_SEQUENCE_LENGTH)\n",
    "# es posible añadir padding tanto al principio como al final de la secuencia\n",
    "# Es recomendable usar el llamado \"post-padding\" (introducir padding al final)\n",
    "# cuando trabajamos con redes LSTM, para así poder implementar la \n",
    "# CuDNN de las capas y conseguir un mejor aprovechamiento computacional)."
   ]
  },
  {
   "cell_type": "code",
   "execution_count": 30,
   "id": "4a079962",
   "metadata": {},
   "outputs": [],
   "source": [
    "#Definimos las etiquetas\n",
    "y_train = train.drop(labels = ['pre_clean_len', 'limpio', 'ID', 'Tweet'], axis=1)\n",
    "y_train_true = (y_train == True).values*1\n",
    "y_val = val.drop(labels = ['pre_clean_len', 'limpio', 'ID', 'Tweet'], axis=1)\n",
    "y_val_true = (y_val == True).values*1"
   ]
  },
  {
   "cell_type": "code",
   "execution_count": 31,
   "id": "0066f367",
   "metadata": {},
   "outputs": [
    {
     "name": "stdout",
     "output_type": "stream",
     "text": [
      "(2492, 22) (2492, 11)\n",
      "(1069, 22) (1069, 11)\n"
     ]
    }
   ],
   "source": [
    "print(X_train.shape,y_train.shape)\n",
    "print(X_val.shape,y_val.shape)"
   ]
  },
  {
   "cell_type": "code",
   "execution_count": 32,
   "id": "79677229",
   "metadata": {},
   "outputs": [
    {
     "data": {
      "text/plain": [
       "1713"
      ]
     },
     "execution_count": 32,
     "metadata": {},
     "output_type": "execute_result"
    }
   ],
   "source": [
    "MAX_NB_WORDS"
   ]
  },
  {
   "cell_type": "code",
   "execution_count": 33,
   "id": "f431c2b4",
   "metadata": {},
   "outputs": [
    {
     "name": "stdout",
     "output_type": "stream",
     "text": [
      "Cargados 1634 vectores en la matriz\n"
     ]
    }
   ],
   "source": [
    "#Rellenamos los vectores con el valor en spaCy para la MAX_NB_WORDS palabras más frecuentes\n",
    "nlp=spacy.load('es_core_news_md')\n",
    "\n",
    "\n",
    "EMBEDDING_DIM = nlp.vocab.vectors_length\n",
    "embedding_matrix = np.zeros((MAX_NB_WORDS, EMBEDDING_DIM))\n",
    "vectores = 0\n",
    "for word, i in word_index.items():\n",
    "    if(i<MAX_NB_WORDS):\n",
    "        embedding_vector = nlp.vocab[word].vector\n",
    "        if not np.array_equal(embedding_vector, np.zeros(EMBEDDING_DIM)):\n",
    "            # las palabras que no se encuentre en el índice de los embeddings serán todo ceros.\n",
    "            embedding_matrix[i] = embedding_vector\n",
    "            vectores += 1\n",
    "        \n",
    "print(\"Cargados {} vectores en la matriz\".format(vectores))"
   ]
  },
  {
   "cell_type": "code",
   "execution_count": 34,
   "id": "c93e0dc1",
   "metadata": {},
   "outputs": [
    {
     "data": {
      "text/plain": [
       "(1713, 300)"
      ]
     },
     "execution_count": 34,
     "metadata": {},
     "output_type": "execute_result"
    }
   ],
   "source": [
    "embedding_matrix.shape"
   ]
  },
  {
   "cell_type": "code",
   "execution_count": 35,
   "id": "1c2608a0",
   "metadata": {},
   "outputs": [
    {
     "name": "stdout",
     "output_type": "stream",
     "text": [
      "Model: \"sequential\"\n",
      "_________________________________________________________________\n",
      " Layer (type)                Output Shape              Param #   \n",
      "=================================================================\n",
      " embedding (Embedding)       (None, 22, 300)           513900    \n",
      "                                                                 \n",
      " spatial_dropout1d (SpatialD  (None, 22, 300)          0         \n",
      " ropout1D)                                                       \n",
      "                                                                 \n",
      " lstm (LSTM)                 (None, 22, 50)            70200     \n",
      "                                                                 \n",
      " lstm_1 (LSTM)               (None, 50)                20200     \n",
      "                                                                 \n",
      " dense (Dense)               (None, 11)                561       \n",
      "                                                                 \n",
      "=================================================================\n",
      "Total params: 604,861\n",
      "Trainable params: 90,961\n",
      "Non-trainable params: 513,900\n",
      "_________________________________________________________________\n",
      "None\n"
     ]
    }
   ],
   "source": [
    "#Creamos el modelo RNN en Keras usando los embeddings cargados como pesos\n",
    "embedding_layer = Embedding(MAX_NB_WORDS,\n",
    "                            EMBEDDING_DIM,\n",
    "                            weights=[embedding_matrix],\n",
    "                            input_length=MAX_SEQUENCE_LENGTH,\n",
    "                            trainable=False,\n",
    "                            mask_zero=True)\n",
    "\n",
    "model = Sequential()\n",
    "model.add(embedding_layer)\n",
    "model.add(SpatialDropout1D(0.4))\n",
    "model.add(LSTM(RNN_DIM, dropout=0.2, recurrent_dropout=0.2, return_sequences=True)) #no usamos recurrent_dropout=0.2 por problemas con el M1\n",
    "model.add(LSTM(RNN_DIM, dropout=0.2, recurrent_dropout=0.2)) #no usamos recurrent_dropout=0.2 por problemas con el M1\n",
    "model.add(Dense(11, activation='sigmoid'))\n",
    "model.compile(loss='binary_crossentropy', optimizer='adam', metrics=['accuracy'])\n",
    "print(model.summary())"
   ]
  },
  {
   "cell_type": "code",
   "execution_count": 36,
   "id": "c6570ab1",
   "metadata": {},
   "outputs": [],
   "source": [
    "#Aplicamos el modelo a nuestros datos de train y validation\n",
    "batch_size=16\n",
    "history=model.fit(X_train, y_train, epochs=30, batch_size=batch_size, verbose=0, validation_data=(X_val, y_val))"
   ]
  },
  {
   "cell_type": "code",
   "execution_count": 37,
   "id": "f8524d3d",
   "metadata": {},
   "outputs": [
    {
     "data": {
      "image/png": "[encoded data removed]",
      "text/plain": [
       "<Figure size 864x432 with 1 Axes>"
      ]
     },
     "metadata": {
      "image/png": {
       "height": 386,
       "width": 807
      },
      "needs_background": "light"
     },
     "output_type": "display_data"
    }
   ],
   "source": [
    "# Comprobamos las métricas de nuestro modelo en fase de entrenamiento\n",
    "plt.plot(history.history['accuracy'])\n",
    "plt.plot(history.history['val_accuracy'])\n",
    "plt.title('Modelo WE spaCy fijos')\n",
    "plt.ylabel('Accuracy')\n",
    "plt.xlabel('Epoch')\n",
    "plt.legend(['Train', 'Test'], loc='upper left')\n",
    "plt.show()"
   ]
  },
  {
   "cell_type": "code",
   "execution_count": 38,
   "id": "7109259d",
   "metadata": {},
   "outputs": [
    {
     "name": "stdout",
     "output_type": "stream",
     "text": [
      "67/67 - 1s - loss: 0.3497 - accuracy: 0.4378 - 611ms/epoch - 9ms/step\n",
      "score: 0.35\n",
      "acc: 0.44\n"
     ]
    }
   ],
   "source": [
    "#Llevamos a cabo la evaluación de nuestro modelo antes de llevarlo a inferencia\n",
    "score,acc = model.evaluate(X_val, y_val, verbose = 2, batch_size = batch_size)\n",
    "print(\"score: %.2f\" % (score))\n",
    "print(\"acc: %.2f\" % (acc))"
   ]
  },
  {
   "cell_type": "code",
   "execution_count": 39,
   "id": "9dab5ca7",
   "metadata": {},
   "outputs": [
    {
     "name": "stdout",
     "output_type": "stream",
     "text": [
      "1069/1069 [==============================] - 8s 6ms/step\n",
      "              precision    recall  f1-score   support\n",
      "\n",
      "       anger       0.62      0.47      0.53       348\n",
      "anticipation       0.33      0.02      0.05       124\n",
      "     disgust       0.35      0.15      0.21       147\n",
      "        fear       0.61      0.49      0.54       108\n",
      "         joy       0.66      0.59      0.62       325\n",
      "        love       0.64      0.30      0.40        71\n",
      "    optimism       0.50      0.08      0.14       115\n",
      "   pessimism       0.57      0.16      0.25       180\n",
      "     sadness       0.69      0.45      0.55       240\n",
      "    surprise       0.00      0.00      0.00        56\n",
      "       trust       0.00      0.00      0.00        60\n",
      "\n",
      "   micro avg       0.62      0.34      0.44      1774\n",
      "   macro avg       0.45      0.25      0.30      1774\n",
      "weighted avg       0.54      0.34      0.40      1774\n",
      " samples avg       0.45      0.35      0.38      1774\n",
      "\n"
     ]
    }
   ],
   "source": [
    "#Revisamos las métricas\n",
    "predict=model.predict(X_val, batch_size=1)\n",
    "prediccion=(predict>0.5).tolist()\n",
    "\n",
    "from sklearn.metrics import classification_report\n",
    "\n",
    "print(classification_report(y_val, prediccion, target_names=['anger', 'anticipation', 'disgust', 'fear', 'joy', 'love', 'optimism', 'pessimism', 'sadness', 'surprise', 'trust'], zero_division=0))"
   ]
  },
  {
   "cell_type": "markdown",
   "id": "be55f71c",
   "metadata": {},
   "source": [
    "Las métricas nos muestran que hay un gran desequilibrio entre las diferentes etiquetas algunas consiguen una gran precisión como en el caso del miedo (fear) o la tristeza (sadness), probablemente debido a que nuestro dataset contenía una cantidad de datos mayor que estaban etiquetados con estos sentimientos. Observamos que tanto la sorpresa (surprise) como la confianza (trust) obtienen una precisión de 0 y al comprobar la cantidad de datos de nuestro dataset con estas etiquetas vemos que ambos sentimientos contaban con la representación más baja del conjunto de etiquetas dentro de nuestro dataset. Además, el F1 score se situa más o menos en el mismo nivel que en los modelos de ML alrededor de 0.4."
   ]
  },
  {
   "cell_type": "markdown",
   "id": "64aee547",
   "metadata": {},
   "source": [
    "### Modelo BERT\n",
    "BERT es una biblioteca de código abierto creada por Google en 2018 basada en la arquitectura de Transformer. A diferencia de la mayoría de las técnicas, el modelo Bert analiza los documentos en ambas direcciones lo cual le proporciona mayor información.\n",
    "En este caso haremos transfer learning y usaremos un modelo BERT pre-entrenado. Durante la configuración del modelo modificaremos las últimas capas para adaptar el modelo a nuestro problema de clasificación multietiqueta."
   ]
  },
  {
   "cell_type": "code",
   "execution_count": 50,
   "id": "6c475c15",
   "metadata": {},
   "outputs": [],
   "source": [
    "from transformers import TFBertModel\n",
    "from transformers import BertTokenizer, BertConfig, TFBertForSequenceClassification\n",
    "import tensorflow as tf\n",
    "import numpy as np\n",
    "from sklearn.model_selection import train_test_split"
   ]
  },
  {
   "cell_type": "code",
   "execution_count": 51,
   "id": "2b25605a",
   "metadata": {},
   "outputs": [],
   "source": [
    "#modelo a utilizar\n",
    "nombre_modelo = 'bert-base-multilingual-uncased'"
   ]
  },
  {
   "cell_type": "markdown",
   "id": "8c1c6962",
   "metadata": {},
   "source": [
    "### Preparamos los datos para poder proporcionárselos al modelo\n",
    "Fijamos un tamaño máximo de vocabulario.  \n",
    "Separamos los tweets en tokens dentro de este vocabulario y creamos las secuencias de longitud fija.  \n",
    "La longitud de la secuencia viene dada por la longitud en tokens del tweet más largo. Sólo se conservan los tokens de las palabras en el vocabulario."
   ]
  },
  {
   "cell_type": "code",
   "execution_count": 52,
   "id": "cdb1bf2b",
   "metadata": {},
   "outputs": [
    {
     "data": {
      "text/plain": [
       "pandas.core.frame.DataFrame"
      ]
     },
     "execution_count": 52,
     "metadata": {},
     "output_type": "execute_result"
    }
   ],
   "source": [
    "type(df_train_clean)"
   ]
  },
  {
   "cell_type": "code",
   "execution_count": 56,
   "id": "0d1dc602",
   "metadata": {},
   "outputs": [
    {
     "name": "stdout",
     "output_type": "stream",
     "text": [
      "<class 'pandas.core.frame.DataFrame'>\n",
      "Int64Index: 3561 entries, 0 to 3560\n",
      "Data columns (total 15 columns):\n",
      " #   Column         Non-Null Count  Dtype \n",
      "---  ------         --------------  ----- \n",
      " 0   ID             3561 non-null   object\n",
      " 1   Tweet          3561 non-null   object\n",
      " 2   anger          3561 non-null   bool  \n",
      " 3   anticipation   3561 non-null   bool  \n",
      " 4   disgust        3561 non-null   bool  \n",
      " 5   fear           3561 non-null   bool  \n",
      " 6   joy            3561 non-null   bool  \n",
      " 7   love           3561 non-null   bool  \n",
      " 8   optimism       3561 non-null   bool  \n",
      " 9   pessimism      3561 non-null   bool  \n",
      " 10  sadness        3561 non-null   bool  \n",
      " 11  surprise       3561 non-null   bool  \n",
      " 12  trust          3561 non-null   bool  \n",
      " 13  pre_clean_len  3561 non-null   int64 \n",
      " 14  limpio         3561 non-null   object\n",
      "dtypes: bool(11), int64(1), object(3)\n",
      "memory usage: 306.4+ KB\n"
     ]
    }
   ],
   "source": [
    "df_train_clean.info()"
   ]
  },
  {
   "cell_type": "code",
   "execution_count": 91,
   "id": "2acbfe52",
   "metadata": {},
   "outputs": [],
   "source": [
    "#Definimos las etiquetas\n",
    "Y = df_train_clean.drop(labels = ['pre_clean_len', 'limpio', 'ID', 'Tweet'], axis=1)"
   ]
  },
  {
   "cell_type": "code",
   "execution_count": 66,
   "id": "7c70aea5",
   "metadata": {},
   "outputs": [],
   "source": [
    "X = df_train_clean['limpio']"
   ]
  },
  {
   "cell_type": "code",
   "execution_count": 92,
   "id": "f2af779a",
   "metadata": {},
   "outputs": [
    {
     "name": "stdout",
     "output_type": "stream",
     "text": [
      "(2492,) (2492, 11)\n",
      "(1069,) (1069, 11)\n"
     ]
    }
   ],
   "source": [
    "#Separamos entrenamiento y test para este nuevo modelo\n",
    "X_train_tweets, X_test_tweets, Y_train, Y_val = train_test_split(X, Y, random_state=42, test_size=0.30)\n",
    "print(X_train_tweets.shape,Y_train.shape)\n",
    "print(X_test_tweets.shape,Y_test.shape)"
   ]
  },
  {
   "cell_type": "code",
   "execution_count": 93,
   "id": "b7a25fbe",
   "metadata": {},
   "outputs": [
    {
     "name": "stdout",
     "output_type": "stream",
     "text": [
      "longitud máxima: 22\n"
     ]
    }
   ],
   "source": [
    "#Estimamos la longitud máxima de documento\n",
    "MAX_SEQUENCE_LENGTH=np.max([len(l.split()) for l in X_train_tweets]) #limitamos longitud al cuantil 99%\n",
    "print('longitud máxima: {}'.format(MAX_SEQUENCE_LENGTH))"
   ]
  },
  {
   "cell_type": "markdown",
   "id": "50ea0fcf",
   "metadata": {},
   "source": [
    "Los modelos de `transformers` utilizan 3 vectores para cada entrada:  \n",
    " - 'input_ids': ID del vocabulario para hacer un embedding de los tokens  \n",
    " - 'token_type_ids': ID de la frase (en aplicaciones con 2 frases de entrada)\n",
    " - 'attention_mask': máscara de atención de los tokens  \n",
    "Usamos una función de tokenizado específica del modelo para obtener estos vectores"
   ]
  },
  {
   "cell_type": "code",
   "execution_count": 94,
   "id": "8d24dc60",
   "metadata": {},
   "outputs": [
    {
     "data": {
      "text/plain": [
       "pandas.core.series.Series"
      ]
     },
     "execution_count": 94,
     "metadata": {},
     "output_type": "execute_result"
    }
   ],
   "source": [
    "type(X_train_tweets)"
   ]
  },
  {
   "cell_type": "code",
   "execution_count": 114,
   "id": "5b054f2d",
   "metadata": {},
   "outputs": [],
   "source": [
    "#Tokenizamos y codificamos como Dataset\n",
    "tokenizer_transf = BertTokenizer.from_pretrained(nombre_modelo)\n",
    "train_encodings = tokenizer_transf(X_train_tweets.to_list(), truncation=True, padding=True, return_tensors=\"tf\")"
   ]
  },
  {
   "cell_type": "code",
   "execution_count": 96,
   "id": "ecce57d6",
   "metadata": {},
   "outputs": [
    {
     "data": {
      "text/plain": [
       "TensorShape([2492, 42])"
      ]
     },
     "execution_count": 96,
     "metadata": {},
     "output_type": "execute_result"
    }
   ],
   "source": [
    "train_encodings['input_ids'].shape"
   ]
  },
  {
   "cell_type": "markdown",
   "id": "6c005ee3",
   "metadata": {},
   "source": [
    "La longitud máxima es mayor que la estimada (por el tokenizado *WordPiece*)"
   ]
  },
  {
   "cell_type": "code",
   "execution_count": 137,
   "id": "736596ae",
   "metadata": {},
   "outputs": [],
   "source": [
    "MAX_SEQUENCE_LENGTH=train_encodings['input_ids'].shape[1]\n",
    "val_encodings = tokenizer_transf(X_test_tweets.to_list(), truncation=True, padding='max_length', max_length=MAX_SEQUENCE_LENGTH, return_tensors=\"tf\")"
   ]
  },
  {
   "cell_type": "code",
   "execution_count": 98,
   "id": "46999528",
   "metadata": {},
   "outputs": [
    {
     "data": {
      "text/plain": [
       "TensorShape([1069, 42])"
      ]
     },
     "execution_count": 98,
     "metadata": {},
     "output_type": "execute_result"
    }
   ],
   "source": [
    "val_encodings['input_ids'].shape"
   ]
  },
  {
   "cell_type": "code",
   "execution_count": 99,
   "id": "0d89defc",
   "metadata": {},
   "outputs": [
    {
     "data": {
      "text/plain": [
       "dict_keys(['input_ids', 'token_type_ids', 'attention_mask'])"
      ]
     },
     "execution_count": 99,
     "metadata": {},
     "output_type": "execute_result"
    }
   ],
   "source": [
    "train_encodings.keys()"
   ]
  },
  {
   "cell_type": "markdown",
   "id": "7b544ef2",
   "metadata": {},
   "source": [
    "Tomamos un ejemplo para comprobar que se han creado cada uno de los 3 vectores."
   ]
  },
  {
   "cell_type": "code",
   "execution_count": 100,
   "id": "7b0d1c2c",
   "metadata": {},
   "outputs": [
    {
     "data": {
      "text/plain": [
       "'mencion buena noche donde podria levantar uno queja uno equipaje dañado que querer pagar mencion tener todo prueba'"
      ]
     },
     "execution_count": 100,
     "metadata": {},
     "output_type": "execute_result"
    }
   ],
   "source": [
    "X_train_tweets.to_list()[0]"
   ]
  },
  {
   "cell_type": "code",
   "execution_count": 101,
   "id": "318515f9",
   "metadata": {},
   "outputs": [
    {
     "data": {
      "text/plain": [
       "<tf.Tensor: shape=(42,), dtype=int32, numpy=\n",
       "array([  101, 76269, 28546, 25605, 12011, 23254, 83668, 10370, 11446,\n",
       "       10126, 10295, 11446, 30603, 20515, 16703, 10351, 10126, 50292,\n",
       "       10177, 38815, 76269, 18959, 12692, 32473,   102,     0,     0,\n",
       "           0,     0,     0,     0,     0,     0,     0,     0,     0,\n",
       "           0,     0,     0,     0,     0,     0])>"
      ]
     },
     "execution_count": 101,
     "metadata": {},
     "output_type": "execute_result"
    }
   ],
   "source": [
    "train_encodings['input_ids'][0]"
   ]
  },
  {
   "cell_type": "code",
   "execution_count": 102,
   "id": "bc8e343e",
   "metadata": {},
   "outputs": [
    {
     "data": {
      "text/plain": [
       "<tf.Tensor: shape=(42,), dtype=int32, numpy=\n",
       "array([1, 1, 1, 1, 1, 1, 1, 1, 1, 1, 1, 1, 1, 1, 1, 1, 1, 1, 1, 1, 1, 1,\n",
       "       1, 1, 1, 0, 0, 0, 0, 0, 0, 0, 0, 0, 0, 0, 0, 0, 0, 0, 0, 0])>"
      ]
     },
     "execution_count": 102,
     "metadata": {},
     "output_type": "execute_result"
    }
   ],
   "source": [
    "train_encodings['attention_mask'][0]"
   ]
  },
  {
   "cell_type": "code",
   "execution_count": 103,
   "id": "0449494c",
   "metadata": {},
   "outputs": [
    {
     "name": "stdout",
     "output_type": "stream",
     "text": [
      "['[CLS]', 'mencion', 'buena', 'noche', 'donde', 'podria', 'levant', '##ar', 'uno', 'que', '##ja', 'uno', 'equip', '##aje', 'dana', '##do', 'que', 'quer', '##er', 'pagar', 'mencion', 'tener', 'todo', 'prueba', '[SEP]', '[PAD]', '[PAD]', '[PAD]', '[PAD]', '[PAD]', '[PAD]', '[PAD]', '[PAD]', '[PAD]', '[PAD]', '[PAD]', '[PAD]', '[PAD]', '[PAD]', '[PAD]', '[PAD]', '[PAD]']\n"
     ]
    }
   ],
   "source": [
    "print(tokenizer_transf.convert_ids_to_tokens(train_encodings['input_ids'][0]))"
   ]
  },
  {
   "cell_type": "code",
   "execution_count": 104,
   "id": "99f60d96",
   "metadata": {},
   "outputs": [],
   "source": [
    "train_dataset = tf.data.Dataset.from_tensor_slices((\n",
    "    dict(train_encodings),\n",
    "    Y_train\n",
    "))\n",
    "val_dataset = tf.data.Dataset.from_tensor_slices((\n",
    "    dict(val_encodings),\n",
    "    Y_val\n",
    "))"
   ]
  },
  {
   "cell_type": "code",
   "execution_count": 105,
   "id": "221fc2ce",
   "metadata": {},
   "outputs": [
    {
     "data": {
      "text/plain": [
       "<TensorSliceDataset element_spec=({'input_ids': TensorSpec(shape=(42,), dtype=tf.int32, name=None), 'token_type_ids': TensorSpec(shape=(42,), dtype=tf.int32, name=None), 'attention_mask': TensorSpec(shape=(42,), dtype=tf.int32, name=None)}, TensorSpec(shape=(11,), dtype=tf.bool, name=None))>"
      ]
     },
     "execution_count": 105,
     "metadata": {},
     "output_type": "execute_result"
    }
   ],
   "source": [
    "train_dataset"
   ]
  },
  {
   "cell_type": "code",
   "execution_count": null,
   "id": "caa90982",
   "metadata": {},
   "outputs": [],
   "source": [
    "## Personalización del modelo Bert para nuestro problema de clasificación\n",
    "A continuación usaremos la librería de Keras para ajustar nuestro modelo Bert al problema de clasificación multietiqueta en el que estamos trabajando.<br>\n",
    "Usamos la primera capa del modelo y ajustamos la salida para que calcule la probabilidad de nuestras 11 etiquetas. Es posible añadir más capas ocultas entre la salida del encoder y la capa de salida para intentar afinar el modelo y conseguir mejores resultados.  \n",
    "  \n",
    "Replicamos el modelo que utiliza TFBertForSequenceClassification:  \n",
    " - Después del pooler_output hacemos un dropout para generar los logits.  \n",
    " - Los logits entran a una capa densa con activación sigmoide para ajustarla a nuestro clasificador.  "
   ]
  },
  {
   "cell_type": "markdown",
   "id": "3cd592ca",
   "metadata": {},
   "source": [
    "Los parámetros de la última capa vienen dados por el nº de etiquetas (una neurona por etiqueta) con una entrada de 768 dimensiones (embedding del token `[CLS]' de cada muestra)\n",
    "<br>\n",
    "<br>\n",
    "Ajustamos la capa de salida de forma que se ajuste a nuestro problema multietiqueta (11 etiquetas = 11 neuronas) y elegimos un tipo de activación sigmoide recomendado para problemas multietiqueta."
   ]
  },
  {
   "cell_type": "code",
   "execution_count": 107,
   "id": "e6bbdffb",
   "metadata": {},
   "outputs": [
    {
     "name": "stderr",
     "output_type": "stream",
     "text": [
      "Some layers from the model checkpoint at bert-base-multilingual-uncased were not used when initializing TFBertModel: ['mlm___cls', 'nsp___cls']\n",
      "- This IS expected if you are initializing TFBertModel from the checkpoint of a model trained on another task or with another architecture (e.g. initializing a BertForSequenceClassification model from a BertForPreTraining model).\n",
      "- This IS NOT expected if you are initializing TFBertModel from the checkpoint of a model that you expect to be exactly identical (initializing a BertForSequenceClassification model from a BertForSequenceClassification model).\n",
      "All the layers of TFBertModel were initialized from the model checkpoint at bert-base-multilingual-uncased.\n",
      "If your task is similar to the task the model of the checkpoint was trained on, you can already use TFBertModel for predictions without further training.\n"
     ]
    },
    {
     "name": "stdout",
     "output_type": "stream",
     "text": [
      "Model: \"BERT_BinaryClass\"\n",
      "__________________________________________________________________________________________________\n",
      " Layer (type)                   Output Shape         Param #     Connected to                     \n",
      "==================================================================================================\n",
      " input_ids (InputLayer)         [(None, 42)]         0           []                               \n",
      "                                                                                                  \n",
      " attention_mask (InputLayer)    [(None, 42)]         0           []                               \n",
      "                                                                                                  \n",
      " tf_bert_model_2 (TFBertModel)  TFBaseModelOutputWi  167356416   ['input_ids[0][0]',              \n",
      "                                thPooling(last_hidd               'attention_mask[0][0]']         \n",
      "                                en_state=(None, 42,                                               \n",
      "                                 768),                                                            \n",
      "                                 pooler_output=(Non                                               \n",
      "                                e, 768),                                                          \n",
      "                                 hidden_states=None                                               \n",
      "                                , attentions=None)                                                \n",
      "                                                                                                  \n",
      " dropout_151 (Dropout)          (None, 768)          0           ['tf_bert_model_2[0][1]']        \n",
      "                                                                                                  \n",
      " clases (Dense)                 (None, 11)           8459        ['dropout_151[0][0]']            \n",
      "                                                                                                  \n",
      "==================================================================================================\n",
      "Total params: 167,364,875\n",
      "Trainable params: 167,364,875\n",
      "Non-trainable params: 0\n",
      "__________________________________________________________________________________________________\n"
     ]
    }
   ],
   "source": [
    "from tensorflow.keras.layers import Input, Dropout, Dense\n",
    "from tensorflow.keras.models import Model\n",
    "from tensorflow.keras.optimizers import Adam\n",
    "from tensorflow.keras.callbacks import EarlyStopping\n",
    "from tensorflow.keras.initializers import TruncatedNormal\n",
    "from tensorflow.keras.losses import CategoricalCrossentropy\n",
    "from tensorflow.keras.metrics import CategoricalAccuracy\n",
    "from transformers import TFBertModel\n",
    "\n",
    "#######################################\n",
    "### --------- Setup BERT ---------- ###\n",
    "\n",
    "\n",
    "# Load transformers config and set output_hidden_states to False\n",
    "config = BertConfig.from_pretrained(nombre_modelo)\n",
    "config.output_hidden_states = False\n",
    "\n",
    "# Load the Transformers BERT model\n",
    "transformer_model = TFBertModel.from_pretrained(nombre_modelo, config = config)\n",
    "\n",
    "#######################################\n",
    "### ------- Build the model ------- ###\n",
    "# TF Keras documentation: https://www.tensorflow.org/api_docs/python/tf/keras/Model\n",
    "\n",
    "# Build your model input\n",
    "input_ids = Input(shape=(MAX_SEQUENCE_LENGTH,), name='input_ids', dtype='int32')\n",
    "attention_mask = Input(shape=(MAX_SEQUENCE_LENGTH,), name='attention_mask', dtype='int32') \n",
    "# Load the Transformers BERT model as a layer in a Keras model\n",
    "pooled_output = transformer_model(input_ids, attention_mask)[1]  # (bs, dim)\n",
    "pooled_output = Dropout(0.1)(pooled_output)  # (bs, dim)\n",
    "# Then build your model output\n",
    "output = Dense(units=11,\n",
    "               kernel_initializer=TruncatedNormal(stddev=config.initializer_range),\n",
    "               activation=\"sigmoid\",\n",
    "               name='clases')(pooled_output)\n",
    "# And combine it all in a model object\n",
    "model = Model(inputs=[input_ids, attention_mask], outputs=output, name='BERT_BinaryClass')\n",
    "# Take a look at the model\n",
    "model.summary()"
   ]
  },
  {
   "cell_type": "code",
   "execution_count": 108,
   "id": "3021016d",
   "metadata": {},
   "outputs": [
    {
     "name": "stdout",
     "output_type": "stream",
     "text": [
      "Epoch 1/10\n"
     ]
    },
    {
     "name": "stderr",
     "output_type": "stream",
     "text": [
      "C:\\Users\\Mari\\anaconda3\\envs\\Neni_fixed\\lib\\site-packages\\keras\\engine\\functional.py:566: UserWarning: Input dict contained keys ['token_type_ids'] which did not match any model input. They will be ignored by the model.\n",
      "  inputs = self._flatten_to_reference_inputs(inputs)\n"
     ]
    },
    {
     "name": "stdout",
     "output_type": "stream",
     "text": [
      "312/312 [==============================] - 1054s 3s/step - loss: 0.4235 - accuracy: 0.3222 - val_loss: 0.3854 - val_accuracy: 0.4453\n",
      "Epoch 2/10\n",
      "312/312 [==============================] - 1191s 4s/step - loss: 0.3662 - accuracy: 0.4795 - val_loss: 0.3510 - val_accuracy: 0.5210\n",
      "Epoch 3/10\n",
      "312/312 [==============================] - 1189s 4s/step - loss: 0.3233 - accuracy: 0.5405 - val_loss: 0.3327 - val_accuracy: 0.5435\n",
      "Epoch 4/10\n",
      "312/312 [==============================] - 1240s 4s/step - loss: 0.2868 - accuracy: 0.5899 - val_loss: 0.3237 - val_accuracy: 0.5360\n",
      "Epoch 5/10\n",
      "312/312 [==============================] - 1229s 4s/step - loss: 0.2578 - accuracy: 0.6268 - val_loss: 0.3255 - val_accuracy: 0.5463\n",
      "Epoch 6/10\n",
      "312/312 [==============================] - 1196s 4s/step - loss: 0.2357 - accuracy: 0.6461 - val_loss: 0.3319 - val_accuracy: 0.5351\n",
      "Epoch 7/10\n",
      "312/312 [==============================] - 1243s 4s/step - loss: 0.2143 - accuracy: 0.6657 - val_loss: 0.3336 - val_accuracy: 0.5500\n",
      "Epoch 8/10\n",
      "312/312 [==============================] - 1253s 4s/step - loss: 0.1935 - accuracy: 0.6818 - val_loss: 0.3456 - val_accuracy: 0.5435\n",
      "Epoch 9/10\n",
      "312/312 [==============================] - 1300s 4s/step - loss: 0.1735 - accuracy: 0.6930 - val_loss: 0.3470 - val_accuracy: 0.5379\n",
      "Epoch 10/10\n",
      " 45/312 [===>..........................] - ETA: 15:59 - loss: 0.1542 - accuracy: 0.6972"
     ]
    },
    {
     "ename": "KeyboardInterrupt",
     "evalue": "",
     "output_type": "error",
     "traceback": [
      "\u001b[1;31m---------------------------------------------------------------------------\u001b[0m",
      "\u001b[1;31mKeyboardInterrupt\u001b[0m                         Traceback (most recent call last)",
      "\u001b[1;32m<ipython-input-108-f4234250bc17>\u001b[0m in \u001b[0;36m<module>\u001b[1;34m\u001b[0m\n\u001b[0;32m      2\u001b[0m \u001b[0mmodel\u001b[0m\u001b[1;33m.\u001b[0m\u001b[0mcompile\u001b[0m\u001b[1;33m(\u001b[0m\u001b[0mloss\u001b[0m\u001b[1;33m=\u001b[0m\u001b[1;34m'binary_crossentropy'\u001b[0m\u001b[1;33m,\u001b[0m \u001b[0moptimizer\u001b[0m\u001b[1;33m=\u001b[0m\u001b[0moptimizer\u001b[0m\u001b[1;33m,\u001b[0m \u001b[0mmetrics\u001b[0m\u001b[1;33m=\u001b[0m\u001b[1;33m[\u001b[0m\u001b[1;34m'accuracy'\u001b[0m\u001b[1;33m]\u001b[0m\u001b[1;33m)\u001b[0m\u001b[1;33m\u001b[0m\u001b[1;33m\u001b[0m\u001b[0m\n\u001b[0;32m      3\u001b[0m \u001b[0mbatch_size\u001b[0m\u001b[1;33m=\u001b[0m\u001b[1;36m8\u001b[0m\u001b[1;33m\u001b[0m\u001b[1;33m\u001b[0m\u001b[0m\n\u001b[1;32m----> 4\u001b[1;33m \u001b[0mhistory\u001b[0m\u001b[1;33m=\u001b[0m\u001b[0mmodel\u001b[0m\u001b[1;33m.\u001b[0m\u001b[0mfit\u001b[0m\u001b[1;33m(\u001b[0m\u001b[0mtrain_dataset\u001b[0m\u001b[1;33m.\u001b[0m\u001b[0mbatch\u001b[0m\u001b[1;33m(\u001b[0m\u001b[0mbatch_size\u001b[0m\u001b[1;33m)\u001b[0m\u001b[1;33m,\u001b[0m \u001b[0mepochs\u001b[0m\u001b[1;33m=\u001b[0m\u001b[1;36m10\u001b[0m\u001b[1;33m,\u001b[0m \u001b[0mbatch_size\u001b[0m\u001b[1;33m=\u001b[0m\u001b[0mbatch_size\u001b[0m\u001b[1;33m,\u001b[0m \u001b[0mvalidation_data\u001b[0m\u001b[1;33m=\u001b[0m\u001b[0mval_dataset\u001b[0m\u001b[1;33m.\u001b[0m\u001b[0mbatch\u001b[0m\u001b[1;33m(\u001b[0m\u001b[0mbatch_size\u001b[0m\u001b[1;33m)\u001b[0m\u001b[1;33m)\u001b[0m\u001b[1;33m\u001b[0m\u001b[1;33m\u001b[0m\u001b[0m\n\u001b[0m",
      "\u001b[1;32m~\\anaconda3\\envs\\Neni_fixed\\lib\\site-packages\\keras\\utils\\traceback_utils.py\u001b[0m in \u001b[0;36merror_handler\u001b[1;34m(*args, **kwargs)\u001b[0m\n\u001b[0;32m     62\u001b[0m     \u001b[0mfiltered_tb\u001b[0m \u001b[1;33m=\u001b[0m \u001b[1;32mNone\u001b[0m\u001b[1;33m\u001b[0m\u001b[1;33m\u001b[0m\u001b[0m\n\u001b[0;32m     63\u001b[0m     \u001b[1;32mtry\u001b[0m\u001b[1;33m:\u001b[0m\u001b[1;33m\u001b[0m\u001b[1;33m\u001b[0m\u001b[0m\n\u001b[1;32m---> 64\u001b[1;33m       \u001b[1;32mreturn\u001b[0m \u001b[0mfn\u001b[0m\u001b[1;33m(\u001b[0m\u001b[1;33m*\u001b[0m\u001b[0margs\u001b[0m\u001b[1;33m,\u001b[0m \u001b[1;33m**\u001b[0m\u001b[0mkwargs\u001b[0m\u001b[1;33m)\u001b[0m\u001b[1;33m\u001b[0m\u001b[1;33m\u001b[0m\u001b[0m\n\u001b[0m\u001b[0;32m     65\u001b[0m     \u001b[1;32mexcept\u001b[0m \u001b[0mException\u001b[0m \u001b[1;32mas\u001b[0m \u001b[0me\u001b[0m\u001b[1;33m:\u001b[0m  \u001b[1;31m# pylint: disable=broad-except\u001b[0m\u001b[1;33m\u001b[0m\u001b[1;33m\u001b[0m\u001b[0m\n\u001b[0;32m     66\u001b[0m       \u001b[0mfiltered_tb\u001b[0m \u001b[1;33m=\u001b[0m \u001b[0m_process_traceback_frames\u001b[0m\u001b[1;33m(\u001b[0m\u001b[0me\u001b[0m\u001b[1;33m.\u001b[0m\u001b[0m__traceback__\u001b[0m\u001b[1;33m)\u001b[0m\u001b[1;33m\u001b[0m\u001b[1;33m\u001b[0m\u001b[0m\n",
      "\u001b[1;32m~\\anaconda3\\envs\\Neni_fixed\\lib\\site-packages\\keras\\engine\\training.py\u001b[0m in \u001b[0;36mfit\u001b[1;34m(self, x, y, batch_size, epochs, verbose, callbacks, validation_split, validation_data, shuffle, class_weight, sample_weight, initial_epoch, steps_per_epoch, validation_steps, validation_batch_size, validation_freq, max_queue_size, workers, use_multiprocessing)\u001b[0m\n\u001b[0;32m   1407\u001b[0m                 _r=1):\n\u001b[0;32m   1408\u001b[0m               \u001b[0mcallbacks\u001b[0m\u001b[1;33m.\u001b[0m\u001b[0mon_train_batch_begin\u001b[0m\u001b[1;33m(\u001b[0m\u001b[0mstep\u001b[0m\u001b[1;33m)\u001b[0m\u001b[1;33m\u001b[0m\u001b[1;33m\u001b[0m\u001b[0m\n\u001b[1;32m-> 1409\u001b[1;33m               \u001b[0mtmp_logs\u001b[0m \u001b[1;33m=\u001b[0m \u001b[0mself\u001b[0m\u001b[1;33m.\u001b[0m\u001b[0mtrain_function\u001b[0m\u001b[1;33m(\u001b[0m\u001b[0miterator\u001b[0m\u001b[1;33m)\u001b[0m\u001b[1;33m\u001b[0m\u001b[1;33m\u001b[0m\u001b[0m\n\u001b[0m\u001b[0;32m   1410\u001b[0m               \u001b[1;32mif\u001b[0m \u001b[0mdata_handler\u001b[0m\u001b[1;33m.\u001b[0m\u001b[0mshould_sync\u001b[0m\u001b[1;33m:\u001b[0m\u001b[1;33m\u001b[0m\u001b[1;33m\u001b[0m\u001b[0m\n\u001b[0;32m   1411\u001b[0m                 \u001b[0mcontext\u001b[0m\u001b[1;33m.\u001b[0m\u001b[0masync_wait\u001b[0m\u001b[1;33m(\u001b[0m\u001b[1;33m)\u001b[0m\u001b[1;33m\u001b[0m\u001b[1;33m\u001b[0m\u001b[0m\n",
      "\u001b[1;32m~\\anaconda3\\envs\\Neni_fixed\\lib\\site-packages\\tensorflow\\python\\util\\traceback_utils.py\u001b[0m in \u001b[0;36merror_handler\u001b[1;34m(*args, **kwargs)\u001b[0m\n\u001b[0;32m    148\u001b[0m     \u001b[0mfiltered_tb\u001b[0m \u001b[1;33m=\u001b[0m \u001b[1;32mNone\u001b[0m\u001b[1;33m\u001b[0m\u001b[1;33m\u001b[0m\u001b[0m\n\u001b[0;32m    149\u001b[0m     \u001b[1;32mtry\u001b[0m\u001b[1;33m:\u001b[0m\u001b[1;33m\u001b[0m\u001b[1;33m\u001b[0m\u001b[0m\n\u001b[1;32m--> 150\u001b[1;33m       \u001b[1;32mreturn\u001b[0m \u001b[0mfn\u001b[0m\u001b[1;33m(\u001b[0m\u001b[1;33m*\u001b[0m\u001b[0margs\u001b[0m\u001b[1;33m,\u001b[0m \u001b[1;33m**\u001b[0m\u001b[0mkwargs\u001b[0m\u001b[1;33m)\u001b[0m\u001b[1;33m\u001b[0m\u001b[1;33m\u001b[0m\u001b[0m\n\u001b[0m\u001b[0;32m    151\u001b[0m     \u001b[1;32mexcept\u001b[0m \u001b[0mException\u001b[0m \u001b[1;32mas\u001b[0m \u001b[0me\u001b[0m\u001b[1;33m:\u001b[0m\u001b[1;33m\u001b[0m\u001b[1;33m\u001b[0m\u001b[0m\n\u001b[0;32m    152\u001b[0m       \u001b[0mfiltered_tb\u001b[0m \u001b[1;33m=\u001b[0m \u001b[0m_process_traceback_frames\u001b[0m\u001b[1;33m(\u001b[0m\u001b[0me\u001b[0m\u001b[1;33m.\u001b[0m\u001b[0m__traceback__\u001b[0m\u001b[1;33m)\u001b[0m\u001b[1;33m\u001b[0m\u001b[1;33m\u001b[0m\u001b[0m\n",
      "\u001b[1;32m~\\anaconda3\\envs\\Neni_fixed\\lib\\site-packages\\tensorflow\\python\\eager\\def_function.py\u001b[0m in \u001b[0;36m__call__\u001b[1;34m(self, *args, **kwds)\u001b[0m\n\u001b[0;32m    913\u001b[0m \u001b[1;33m\u001b[0m\u001b[0m\n\u001b[0;32m    914\u001b[0m       \u001b[1;32mwith\u001b[0m \u001b[0mOptionalXlaContext\u001b[0m\u001b[1;33m(\u001b[0m\u001b[0mself\u001b[0m\u001b[1;33m.\u001b[0m\u001b[0m_jit_compile\u001b[0m\u001b[1;33m)\u001b[0m\u001b[1;33m:\u001b[0m\u001b[1;33m\u001b[0m\u001b[1;33m\u001b[0m\u001b[0m\n\u001b[1;32m--> 915\u001b[1;33m         \u001b[0mresult\u001b[0m \u001b[1;33m=\u001b[0m \u001b[0mself\u001b[0m\u001b[1;33m.\u001b[0m\u001b[0m_call\u001b[0m\u001b[1;33m(\u001b[0m\u001b[1;33m*\u001b[0m\u001b[0margs\u001b[0m\u001b[1;33m,\u001b[0m \u001b[1;33m**\u001b[0m\u001b[0mkwds\u001b[0m\u001b[1;33m)\u001b[0m\u001b[1;33m\u001b[0m\u001b[1;33m\u001b[0m\u001b[0m\n\u001b[0m\u001b[0;32m    916\u001b[0m \u001b[1;33m\u001b[0m\u001b[0m\n\u001b[0;32m    917\u001b[0m       \u001b[0mnew_tracing_count\u001b[0m \u001b[1;33m=\u001b[0m \u001b[0mself\u001b[0m\u001b[1;33m.\u001b[0m\u001b[0mexperimental_get_tracing_count\u001b[0m\u001b[1;33m(\u001b[0m\u001b[1;33m)\u001b[0m\u001b[1;33m\u001b[0m\u001b[1;33m\u001b[0m\u001b[0m\n",
      "\u001b[1;32m~\\anaconda3\\envs\\Neni_fixed\\lib\\site-packages\\tensorflow\\python\\eager\\def_function.py\u001b[0m in \u001b[0;36m_call\u001b[1;34m(self, *args, **kwds)\u001b[0m\n\u001b[0;32m    945\u001b[0m       \u001b[1;31m# In this case we have created variables on the first call, so we run the\u001b[0m\u001b[1;33m\u001b[0m\u001b[1;33m\u001b[0m\u001b[1;33m\u001b[0m\u001b[0m\n\u001b[0;32m    946\u001b[0m       \u001b[1;31m# defunned version which is guaranteed to never create variables.\u001b[0m\u001b[1;33m\u001b[0m\u001b[1;33m\u001b[0m\u001b[1;33m\u001b[0m\u001b[0m\n\u001b[1;32m--> 947\u001b[1;33m       \u001b[1;32mreturn\u001b[0m \u001b[0mself\u001b[0m\u001b[1;33m.\u001b[0m\u001b[0m_stateless_fn\u001b[0m\u001b[1;33m(\u001b[0m\u001b[1;33m*\u001b[0m\u001b[0margs\u001b[0m\u001b[1;33m,\u001b[0m \u001b[1;33m**\u001b[0m\u001b[0mkwds\u001b[0m\u001b[1;33m)\u001b[0m  \u001b[1;31m# pylint: disable=not-callable\u001b[0m\u001b[1;33m\u001b[0m\u001b[1;33m\u001b[0m\u001b[0m\n\u001b[0m\u001b[0;32m    948\u001b[0m     \u001b[1;32melif\u001b[0m \u001b[0mself\u001b[0m\u001b[1;33m.\u001b[0m\u001b[0m_stateful_fn\u001b[0m \u001b[1;32mis\u001b[0m \u001b[1;32mnot\u001b[0m \u001b[1;32mNone\u001b[0m\u001b[1;33m:\u001b[0m\u001b[1;33m\u001b[0m\u001b[1;33m\u001b[0m\u001b[0m\n\u001b[0;32m    949\u001b[0m       \u001b[1;31m# Release the lock early so that multiple threads can perform the call\u001b[0m\u001b[1;33m\u001b[0m\u001b[1;33m\u001b[0m\u001b[1;33m\u001b[0m\u001b[0m\n",
      "\u001b[1;32m~\\anaconda3\\envs\\Neni_fixed\\lib\\site-packages\\tensorflow\\python\\eager\\function.py\u001b[0m in \u001b[0;36m__call__\u001b[1;34m(self, *args, **kwargs)\u001b[0m\n\u001b[0;32m   2451\u001b[0m       (graph_function,\n\u001b[0;32m   2452\u001b[0m        filtered_flat_args) = self._maybe_define_function(args, kwargs)\n\u001b[1;32m-> 2453\u001b[1;33m     return graph_function._call_flat(\n\u001b[0m\u001b[0;32m   2454\u001b[0m         filtered_flat_args, captured_inputs=graph_function.captured_inputs)  # pylint: disable=protected-access\n\u001b[0;32m   2455\u001b[0m \u001b[1;33m\u001b[0m\u001b[0m\n",
      "\u001b[1;32m~\\anaconda3\\envs\\Neni_fixed\\lib\\site-packages\\tensorflow\\python\\eager\\function.py\u001b[0m in \u001b[0;36m_call_flat\u001b[1;34m(self, args, captured_inputs, cancellation_manager)\u001b[0m\n\u001b[0;32m   1858\u001b[0m         and executing_eagerly):\n\u001b[0;32m   1859\u001b[0m       \u001b[1;31m# No tape is watching; skip to running the function.\u001b[0m\u001b[1;33m\u001b[0m\u001b[1;33m\u001b[0m\u001b[1;33m\u001b[0m\u001b[0m\n\u001b[1;32m-> 1860\u001b[1;33m       return self._build_call_outputs(self._inference_function.call(\n\u001b[0m\u001b[0;32m   1861\u001b[0m           ctx, args, cancellation_manager=cancellation_manager))\n\u001b[0;32m   1862\u001b[0m     forward_backward = self._select_forward_and_backward_functions(\n",
      "\u001b[1;32m~\\anaconda3\\envs\\Neni_fixed\\lib\\site-packages\\tensorflow\\python\\eager\\function.py\u001b[0m in \u001b[0;36mcall\u001b[1;34m(self, ctx, args, cancellation_manager)\u001b[0m\n\u001b[0;32m    495\u001b[0m       \u001b[1;32mwith\u001b[0m \u001b[0m_InterpolateFunctionError\u001b[0m\u001b[1;33m(\u001b[0m\u001b[0mself\u001b[0m\u001b[1;33m)\u001b[0m\u001b[1;33m:\u001b[0m\u001b[1;33m\u001b[0m\u001b[1;33m\u001b[0m\u001b[0m\n\u001b[0;32m    496\u001b[0m         \u001b[1;32mif\u001b[0m \u001b[0mcancellation_manager\u001b[0m \u001b[1;32mis\u001b[0m \u001b[1;32mNone\u001b[0m\u001b[1;33m:\u001b[0m\u001b[1;33m\u001b[0m\u001b[1;33m\u001b[0m\u001b[0m\n\u001b[1;32m--> 497\u001b[1;33m           outputs = execute.execute(\n\u001b[0m\u001b[0;32m    498\u001b[0m               \u001b[0mstr\u001b[0m\u001b[1;33m(\u001b[0m\u001b[0mself\u001b[0m\u001b[1;33m.\u001b[0m\u001b[0msignature\u001b[0m\u001b[1;33m.\u001b[0m\u001b[0mname\u001b[0m\u001b[1;33m)\u001b[0m\u001b[1;33m,\u001b[0m\u001b[1;33m\u001b[0m\u001b[1;33m\u001b[0m\u001b[0m\n\u001b[0;32m    499\u001b[0m               \u001b[0mnum_outputs\u001b[0m\u001b[1;33m=\u001b[0m\u001b[0mself\u001b[0m\u001b[1;33m.\u001b[0m\u001b[0m_num_outputs\u001b[0m\u001b[1;33m,\u001b[0m\u001b[1;33m\u001b[0m\u001b[1;33m\u001b[0m\u001b[0m\n",
      "\u001b[1;32m~\\anaconda3\\envs\\Neni_fixed\\lib\\site-packages\\tensorflow\\python\\eager\\execute.py\u001b[0m in \u001b[0;36mquick_execute\u001b[1;34m(op_name, num_outputs, inputs, attrs, ctx, name)\u001b[0m\n\u001b[0;32m     52\u001b[0m   \u001b[1;32mtry\u001b[0m\u001b[1;33m:\u001b[0m\u001b[1;33m\u001b[0m\u001b[1;33m\u001b[0m\u001b[0m\n\u001b[0;32m     53\u001b[0m     \u001b[0mctx\u001b[0m\u001b[1;33m.\u001b[0m\u001b[0mensure_initialized\u001b[0m\u001b[1;33m(\u001b[0m\u001b[1;33m)\u001b[0m\u001b[1;33m\u001b[0m\u001b[1;33m\u001b[0m\u001b[0m\n\u001b[1;32m---> 54\u001b[1;33m     tensors = pywrap_tfe.TFE_Py_Execute(ctx._handle, device_name, op_name,\n\u001b[0m\u001b[0;32m     55\u001b[0m                                         inputs, attrs, num_outputs)\n\u001b[0;32m     56\u001b[0m   \u001b[1;32mexcept\u001b[0m \u001b[0mcore\u001b[0m\u001b[1;33m.\u001b[0m\u001b[0m_NotOkStatusException\u001b[0m \u001b[1;32mas\u001b[0m \u001b[0me\u001b[0m\u001b[1;33m:\u001b[0m\u001b[1;33m\u001b[0m\u001b[1;33m\u001b[0m\u001b[0m\n",
      "\u001b[1;31mKeyboardInterrupt\u001b[0m: "
     ]
    }
   ],
   "source": [
    "optimizer = tf.keras.optimizers.Adam(learning_rate=1e-5, epsilon=1e-08)\n",
    "model.compile(loss='binary_crossentropy', optimizer=optimizer, metrics=['accuracy'])\n",
    "batch_size=8\n",
    "history=model.fit(train_dataset.batch(batch_size), epochs=10, batch_size=batch_size, validation_data=val_dataset.batch(batch_size))"
   ]
  },
  {
   "cell_type": "code",
   "execution_count": 109,
   "id": "a467e2e8",
   "metadata": {},
   "outputs": [
    {
     "data": {
      "image/png": "[encoded data removed]",
      "text/plain": [
       "<Figure size 432x288 with 1 Axes>"
      ]
     },
     "metadata": {
      "image/png": {
       "height": 277,
       "width": 433
      },
      "needs_background": "light"
     },
     "output_type": "display_data"
    }
   ],
   "source": [
    "import matplotlib.pyplot as plt\n",
    "%matplotlib inline\n",
    "\n",
    "# Plot training & validation accuracy values\n",
    "plt.plot(history.history['accuracy'])\n",
    "plt.plot(history.history['val_accuracy'])\n",
    "plt.title('Fine-tuning Keras')\n",
    "plt.ylabel('Accuracy')\n",
    "plt.xlabel('Epoch')\n",
    "plt.legend(['Train', 'Validation'], loc='upper left')\n",
    "plt.show()"
   ]
  },
  {
   "cell_type": "code",
   "execution_count": 122,
   "id": "d4d95dd2",
   "metadata": {},
   "outputs": [
    {
     "name": "stdout",
     "output_type": "stream",
     "text": [
      "134/134 [==============================] - 93s 694ms/step\n",
      "              precision    recall  f1-score   support\n",
      "\n",
      "       anger       0.70      0.61      0.65       348\n",
      "anticipation       0.29      0.32      0.31       124\n",
      "     disgust       0.41      0.37      0.39       147\n",
      "        fear       0.62      0.63      0.62       108\n",
      "         joy       0.70      0.70      0.70       325\n",
      "        love       0.72      0.32      0.45        71\n",
      "    optimism       0.29      0.30      0.29       115\n",
      "   pessimism       0.49      0.25      0.33       180\n",
      "     sadness       0.76      0.42      0.54       240\n",
      "    surprise       0.00      0.00      0.00        56\n",
      "       trust       0.67      0.07      0.12        60\n",
      "\n",
      "   micro avg       0.58      0.45      0.51      1774\n",
      "   macro avg       0.51      0.36      0.40      1774\n",
      "weighted avg       0.58      0.45      0.49      1774\n",
      " samples avg       0.55      0.48      0.48      1774\n",
      "\n"
     ]
    }
   ],
   "source": [
    "predict = model.predict(val_dataset.batch(batch_size))\n",
    "predict_clases = (predict>0.5).tolist()\n",
    "from sklearn.metrics import classification_report\n",
    "\n",
    "print(classification_report(Y_val, predict_clases, target_names=['anger', 'anticipation', 'disgust', 'fear', 'joy', 'love', 'optimism', 'pessimism', 'sadness', 'surprise', 'trust'], zero_division=0))"
   ]
  },
  {
   "cell_type": "markdown",
   "id": "fe021c19",
   "metadata": {},
   "source": [
    "Tras el entrenamiento de nuestro modelo BERT tuneado vemos que, aunque poco, sí hemos conseguido un F1 score mayor al que habíamos conseguido hasta ahora 0.49. Además los resultados individuales por etiqueta también mejoran, por lo tanto, podemos concluir que este es el modelo que mejores resultados nos ha dado y por ese motivo es el modelo que llevaremos a inferencia."
   ]
  },
  {
   "cell_type": "markdown",
   "id": "af04763f",
   "metadata": {},
   "source": [
    "## Inferencia\n",
    "Es el momento de proner a prueba nuestro modelo con nuestro conjunto de test compuesto por datos que no ha visto nunca durante el entrenamiento."
   ]
  },
  {
   "cell_type": "code",
   "execution_count": 131,
   "id": "519d34a4",
   "metadata": {},
   "outputs": [
    {
     "data": {
      "text/html": [
       "<div>\n",
       "<style scoped>\n",
       "    .dataframe tbody tr th:only-of-type {\n",
       "        vertical-align: middle;\n",
       "    }\n",
       "\n",
       "    .dataframe tbody tr th {\n",
       "        vertical-align: top;\n",
       "    }\n",
       "\n",
       "    .dataframe thead th {\n",
       "        text-align: right;\n",
       "    }\n",
       "</style>\n",
       "<table border=\"1\" class=\"dataframe\">\n",
       "  <thead>\n",
       "    <tr style=\"text-align: right;\">\n",
       "      <th></th>\n",
       "      <th>anger</th>\n",
       "      <th>anticipation</th>\n",
       "      <th>disgust</th>\n",
       "      <th>fear</th>\n",
       "      <th>joy</th>\n",
       "      <th>love</th>\n",
       "      <th>optimism</th>\n",
       "      <th>pessimism</th>\n",
       "      <th>sadness</th>\n",
       "      <th>surprise</th>\n",
       "      <th>trust</th>\n",
       "    </tr>\n",
       "  </thead>\n",
       "  <tbody>\n",
       "  </tbody>\n",
       "</table>\n",
       "</div>"
      ],
      "text/plain": [
       "Empty DataFrame\n",
       "Columns: [anger, anticipation, disgust, fear, joy, love, optimism, pessimism, sadness, surprise, trust]\n",
       "Index: []"
      ]
     },
     "execution_count": 131,
     "metadata": {},
     "output_type": "execute_result"
    }
   ],
   "source": [
    "#Creamos un dataframe vacio que llenaremos con los resultados que obtengamos\n",
    "df_test_transf = pd.DataFrame(columns=['anger', 'anticipation', 'disgust', 'fear', 'joy', 'love', 'optimism', 'pessimism', 'sadness', 'surprise', 'trust'], index=None)\n",
    "df_test_transf"
   ]
  },
  {
   "cell_type": "code",
   "execution_count": 132,
   "id": "ae4d31b5",
   "metadata": {},
   "outputs": [
    {
     "name": "stdout",
     "output_type": "stream",
     "text": [
      "1/1 [==============================] - 0s 185ms/step\n",
      "1/1 [==============================] - 0s 185ms/step\n",
      "1/1 [==============================] - 0s 169ms/step\n",
      "1/1 [==============================] - 0s 154ms/step\n",
      "1/1 [==============================] - 0s 169ms/step\n",
      "1/1 [==============================] - 0s 169ms/step\n",
      "1/1 [==============================] - 0s 169ms/step\n",
      "1/1 [==============================] - 0s 169ms/step\n",
      "1/1 [==============================] - 0s 169ms/step\n",
      "1/1 [==============================] - 0s 178ms/step\n",
      "1/1 [==============================] - 0s 163ms/step\n",
      "1/1 [==============================] - 0s 194ms/step\n",
      "1/1 [==============================] - 0s 185ms/step\n",
      "1/1 [==============================] - 0s 169ms/step\n",
      "1/1 [==============================] - 0s 169ms/step\n",
      "1/1 [==============================] - 0s 169ms/step\n",
      "1/1 [==============================] - 0s 185ms/step\n",
      "1/1 [==============================] - 0s 169ms/step\n",
      "1/1 [==============================] - 0s 169ms/step\n",
      "1/1 [==============================] - 0s 170ms/step\n",
      "1/1 [==============================] - 0s 176ms/step\n",
      "1/1 [==============================] - 0s 183ms/step\n",
      "1/1 [==============================] - 0s 195ms/step\n",
      "1/1 [==============================] - 0s 180ms/step\n",
      "1/1 [==============================] - 0s 201ms/step\n",
      "1/1 [==============================] - 0s 170ms/step\n",
      "1/1 [==============================] - 0s 187ms/step\n",
      "1/1 [==============================] - 0s 189ms/step\n",
      "1/1 [==============================] - 0s 178ms/step\n",
      "1/1 [==============================] - 0s 169ms/step\n",
      "1/1 [==============================] - 0s 185ms/step\n",
      "1/1 [==============================] - 0s 185ms/step\n",
      "1/1 [==============================] - 0s 169ms/step\n",
      "1/1 [==============================] - 0s 169ms/step\n",
      "1/1 [==============================] - 0s 169ms/step\n",
      "1/1 [==============================] - 0s 169ms/step\n",
      "1/1 [==============================] - 0s 185ms/step\n",
      "1/1 [==============================] - 0s 185ms/step\n",
      "1/1 [==============================] - 0s 169ms/step\n",
      "1/1 [==============================] - 0s 180ms/step\n",
      "1/1 [==============================] - 0s 189ms/step\n",
      "1/1 [==============================] - 0s 185ms/step\n",
      "1/1 [==============================] - 0s 169ms/step\n",
      "1/1 [==============================] - 0s 169ms/step\n",
      "1/1 [==============================] - 0s 169ms/step\n",
      "1/1 [==============================] - 0s 169ms/step\n",
      "1/1 [==============================] - 0s 185ms/step\n",
      "1/1 [==============================] - 0s 169ms/step\n",
      "1/1 [==============================] - 0s 154ms/step\n",
      "1/1 [==============================] - 0s 169ms/step\n",
      "1/1 [==============================] - 0s 169ms/step\n",
      "1/1 [==============================] - 0s 185ms/step\n",
      "1/1 [==============================] - 0s 169ms/step\n",
      "1/1 [==============================] - 0s 169ms/step\n",
      "1/1 [==============================] - 0s 169ms/step\n",
      "1/1 [==============================] - 0s 169ms/step\n",
      "1/1 [==============================] - 0s 178ms/step\n",
      "1/1 [==============================] - 0s 163ms/step\n",
      "1/1 [==============================] - 0s 163ms/step\n",
      "1/1 [==============================] - 0s 178ms/step\n",
      "1/1 [==============================] - 0s 178ms/step\n",
      "1/1 [==============================] - 0s 186ms/step\n",
      "1/1 [==============================] - 0s 180ms/step\n",
      "1/1 [==============================] - 0s 178ms/step\n",
      "1/1 [==============================] - 0s 163ms/step\n",
      "1/1 [==============================] - 0s 167ms/step\n",
      "1/1 [==============================] - 0s 181ms/step\n",
      "1/1 [==============================] - 0s 185ms/step\n",
      "1/1 [==============================] - 0s 169ms/step\n",
      "1/1 [==============================] - 0s 169ms/step\n",
      "1/1 [==============================] - 0s 169ms/step\n",
      "1/1 [==============================] - 0s 185ms/step\n",
      "1/1 [==============================] - 0s 169ms/step\n",
      "1/1 [==============================] - 0s 169ms/step\n",
      "1/1 [==============================] - 0s 169ms/step\n",
      "1/1 [==============================] - 0s 169ms/step\n",
      "1/1 [==============================] - 0s 169ms/step\n",
      "1/1 [==============================] - 0s 169ms/step\n",
      "1/1 [==============================] - 0s 169ms/step\n",
      "1/1 [==============================] - 0s 169ms/step\n",
      "1/1 [==============================] - 0s 185ms/step\n",
      "1/1 [==============================] - 0s 178ms/step\n",
      "1/1 [==============================] - 0s 178ms/step\n",
      "1/1 [==============================] - 0s 163ms/step\n",
      "1/1 [==============================] - 0s 163ms/step\n",
      "1/1 [==============================] - 0s 163ms/step\n",
      "1/1 [==============================] - 0s 167ms/step\n",
      "1/1 [==============================] - 0s 169ms/step\n",
      "1/1 [==============================] - 0s 169ms/step\n",
      "1/1 [==============================] - 0s 169ms/step\n",
      "1/1 [==============================] - 0s 169ms/step\n",
      "1/1 [==============================] - 0s 169ms/step\n",
      "1/1 [==============================] - 0s 169ms/step\n",
      "1/1 [==============================] - 0s 169ms/step\n",
      "1/1 [==============================] - 0s 167ms/step\n",
      "1/1 [==============================] - 0s 172ms/step\n",
      "1/1 [==============================] - 0s 185ms/step\n",
      "1/1 [==============================] - 0s 169ms/step\n",
      "1/1 [==============================] - 0s 169ms/step\n",
      "1/1 [==============================] - 0s 170ms/step\n",
      "1/1 [==============================] - 0s 159ms/step\n",
      "1/1 [==============================] - 0s 194ms/step\n",
      "1/1 [==============================] - 0s 182ms/step\n",
      "1/1 [==============================] - 0s 200ms/step\n",
      "1/1 [==============================] - 0s 196ms/step\n",
      "1/1 [==============================] - 0s 185ms/step\n",
      "1/1 [==============================] - 0s 185ms/step\n",
      "1/1 [==============================] - 0s 169ms/step\n",
      "1/1 [==============================] - 0s 154ms/step\n",
      "1/1 [==============================] - 0s 169ms/step\n",
      "1/1 [==============================] - 0s 169ms/step\n",
      "1/1 [==============================] - 0s 185ms/step\n",
      "1/1 [==============================] - 0s 185ms/step\n",
      "1/1 [==============================] - 0s 169ms/step\n",
      "1/1 [==============================] - 0s 169ms/step\n",
      "1/1 [==============================] - 0s 163ms/step\n",
      "1/1 [==============================] - 0s 178ms/step\n",
      "1/1 [==============================] - 0s 178ms/step\n",
      "1/1 [==============================] - 0s 178ms/step\n",
      "1/1 [==============================] - 0s 163ms/step\n",
      "1/1 [==============================] - 0s 169ms/step\n",
      "1/1 [==============================] - 0s 169ms/step\n",
      "1/1 [==============================] - 0s 185ms/step\n",
      "1/1 [==============================] - 0s 169ms/step\n",
      "1/1 [==============================] - 0s 185ms/step\n",
      "1/1 [==============================] - 0s 169ms/step\n",
      "1/1 [==============================] - 0s 169ms/step\n",
      "1/1 [==============================] - 0s 169ms/step\n",
      "1/1 [==============================] - 0s 163ms/step\n",
      "1/1 [==============================] - 0s 178ms/step\n",
      "1/1 [==============================] - 0s 178ms/step\n",
      "1/1 [==============================] - 0s 178ms/step\n",
      "1/1 [==============================] - 0s 178ms/step\n",
      "1/1 [==============================] - 0s 163ms/step\n",
      "1/1 [==============================] - 0s 169ms/step\n",
      "1/1 [==============================] - 0s 169ms/step\n",
      "1/1 [==============================] - 0s 169ms/step\n",
      "1/1 [==============================] - 0s 169ms/step\n",
      "1/1 [==============================] - 0s 169ms/step\n",
      "1/1 [==============================] - 0s 169ms/step\n",
      "1/1 [==============================] - 0s 163ms/step\n",
      "1/1 [==============================] - 0s 184ms/step\n",
      "1/1 [==============================] - 0s 172ms/step\n",
      "1/1 [==============================] - 0s 168ms/step\n",
      "1/1 [==============================] - 0s 164ms/step\n",
      "1/1 [==============================] - 0s 169ms/step\n",
      "1/1 [==============================] - 0s 169ms/step\n",
      "1/1 [==============================] - 0s 169ms/step\n",
      "1/1 [==============================] - 0s 185ms/step\n",
      "1/1 [==============================] - 0s 169ms/step\n",
      "1/1 [==============================] - 0s 178ms/step\n",
      "1/1 [==============================] - 0s 163ms/step\n",
      "1/1 [==============================] - 0s 163ms/step\n",
      "1/1 [==============================] - 0s 169ms/step\n"
     ]
    },
    {
     "name": "stdout",
     "output_type": "stream",
     "text": [
      "1/1 [==============================] - 0s 154ms/step\n",
      "1/1 [==============================] - 0s 169ms/step\n",
      "1/1 [==============================] - 0s 169ms/step\n",
      "1/1 [==============================] - 0s 169ms/step\n",
      "1/1 [==============================] - 0s 169ms/step\n",
      "1/1 [==============================] - 0s 178ms/step\n",
      "1/1 [==============================] - 0s 163ms/step\n",
      "1/1 [==============================] - 0s 163ms/step\n",
      "1/1 [==============================] - 0s 154ms/step\n",
      "1/1 [==============================] - 0s 169ms/step\n",
      "1/1 [==============================] - 0s 169ms/step\n",
      "1/1 [==============================] - 0s 154ms/step\n",
      "1/1 [==============================] - 0s 154ms/step\n",
      "1/1 [==============================] - 0s 169ms/step\n",
      "1/1 [==============================] - 0s 162ms/step\n",
      "1/1 [==============================] - 0s 178ms/step\n",
      "1/1 [==============================] - 0s 163ms/step\n",
      "1/1 [==============================] - 0s 153ms/step\n",
      "1/1 [==============================] - 0s 154ms/step\n",
      "1/1 [==============================] - 0s 154ms/step\n",
      "1/1 [==============================] - 0s 169ms/step\n",
      "1/1 [==============================] - 0s 185ms/step\n",
      "1/1 [==============================] - 0s 169ms/step\n",
      "1/1 [==============================] - 0s 169ms/step\n",
      "1/1 [==============================] - 0s 169ms/step\n",
      "1/1 [==============================] - 0s 185ms/step\n",
      "1/1 [==============================] - 0s 185ms/step\n",
      "1/1 [==============================] - 0s 185ms/step\n",
      "1/1 [==============================] - 0s 187ms/step\n",
      "1/1 [==============================] - 0s 185ms/step\n",
      "1/1 [==============================] - 0s 192ms/step\n",
      "1/1 [==============================] - 0s 182ms/step\n",
      "1/1 [==============================] - 0s 180ms/step\n",
      "1/1 [==============================] - 0s 185ms/step\n",
      "1/1 [==============================] - 0s 169ms/step\n",
      "1/1 [==============================] - 0s 169ms/step\n",
      "1/1 [==============================] - 0s 169ms/step\n",
      "1/1 [==============================] - 0s 162ms/step\n",
      "1/1 [==============================] - 0s 178ms/step\n",
      "1/1 [==============================] - 0s 194ms/step\n",
      "1/1 [==============================] - 0s 163ms/step\n",
      "1/1 [==============================] - 0s 178ms/step\n",
      "1/1 [==============================] - 0s 163ms/step\n",
      "1/1 [==============================] - 0s 169ms/step\n",
      "1/1 [==============================] - 0s 169ms/step\n",
      "1/1 [==============================] - 0s 169ms/step\n",
      "1/1 [==============================] - 0s 169ms/step\n",
      "1/1 [==============================] - 0s 169ms/step\n",
      "1/1 [==============================] - 0s 178ms/step\n",
      "1/1 [==============================] - 0s 163ms/step\n",
      "1/1 [==============================] - 0s 178ms/step\n",
      "1/1 [==============================] - 0s 178ms/step\n",
      "1/1 [==============================] - 0s 163ms/step\n",
      "1/1 [==============================] - 0s 154ms/step\n",
      "1/1 [==============================] - 0s 169ms/step\n",
      "1/1 [==============================] - 0s 168ms/step\n",
      "1/1 [==============================] - 0s 169ms/step\n",
      "1/1 [==============================] - 0s 169ms/step\n",
      "1/1 [==============================] - 0s 169ms/step\n",
      "1/1 [==============================] - 0s 163ms/step\n",
      "1/1 [==============================] - 0s 163ms/step\n",
      "1/1 [==============================] - 0s 169ms/step\n",
      "1/1 [==============================] - 0s 169ms/step\n",
      "1/1 [==============================] - 0s 169ms/step\n",
      "1/1 [==============================] - 0s 169ms/step\n",
      "1/1 [==============================] - 0s 154ms/step\n",
      "1/1 [==============================] - 0s 169ms/step\n",
      "1/1 [==============================] - 0s 169ms/step\n",
      "1/1 [==============================] - 0s 178ms/step\n",
      "1/1 [==============================] - 0s 163ms/step\n",
      "1/1 [==============================] - 0s 163ms/step\n",
      "1/1 [==============================] - 0s 169ms/step\n",
      "1/1 [==============================] - 0s 175ms/step\n",
      "1/1 [==============================] - 0s 163ms/step\n",
      "1/1 [==============================] - 0s 169ms/step\n",
      "1/1 [==============================] - 0s 169ms/step\n",
      "1/1 [==============================] - 0s 178ms/step\n",
      "1/1 [==============================] - 0s 163ms/step\n",
      "1/1 [==============================] - 0s 178ms/step\n",
      "1/1 [==============================] - 0s 178ms/step\n",
      "1/1 [==============================] - 0s 163ms/step\n",
      "1/1 [==============================] - 0s 169ms/step\n",
      "1/1 [==============================] - 0s 171ms/step\n",
      "1/1 [==============================] - 0s 168ms/step\n",
      "1/1 [==============================] - 0s 169ms/step\n",
      "1/1 [==============================] - 0s 169ms/step\n",
      "1/1 [==============================] - 0s 169ms/step\n",
      "1/1 [==============================] - 0s 185ms/step\n",
      "1/1 [==============================] - 0s 169ms/step\n",
      "1/1 [==============================] - 0s 169ms/step\n",
      "1/1 [==============================] - 0s 163ms/step\n",
      "1/1 [==============================] - 0s 188ms/step\n",
      "1/1 [==============================] - 0s 167ms/step\n",
      "1/1 [==============================] - 0s 178ms/step\n",
      "1/1 [==============================] - 0s 178ms/step\n",
      "1/1 [==============================] - 0s 169ms/step\n",
      "1/1 [==============================] - 0s 171ms/step\n",
      "1/1 [==============================] - 0s 167ms/step\n",
      "1/1 [==============================] - 0s 185ms/step\n",
      "1/1 [==============================] - 0s 169ms/step\n",
      "1/1 [==============================] - 0s 169ms/step\n",
      "1/1 [==============================] - 0s 169ms/step\n",
      "1/1 [==============================] - 0s 185ms/step\n",
      "1/1 [==============================] - 0s 185ms/step\n",
      "1/1 [==============================] - 0s 185ms/step\n",
      "1/1 [==============================] - 0s 185ms/step\n",
      "1/1 [==============================] - 0s 169ms/step\n",
      "1/1 [==============================] - 0s 169ms/step\n",
      "1/1 [==============================] - 0s 185ms/step\n",
      "1/1 [==============================] - 0s 169ms/step\n",
      "1/1 [==============================] - 0s 167ms/step\n",
      "1/1 [==============================] - 0s 167ms/step\n",
      "1/1 [==============================] - 0s 203ms/step\n",
      "1/1 [==============================] - 0s 180ms/step\n",
      "1/1 [==============================] - 0s 192ms/step\n",
      "1/1 [==============================] - 0s 181ms/step\n",
      "1/1 [==============================] - 0s 172ms/step\n",
      "1/1 [==============================] - 0s 183ms/step\n",
      "1/1 [==============================] - 0s 185ms/step\n",
      "1/1 [==============================] - 0s 169ms/step\n",
      "1/1 [==============================] - 0s 169ms/step\n",
      "1/1 [==============================] - 0s 185ms/step\n",
      "1/1 [==============================] - 0s 169ms/step\n",
      "1/1 [==============================] - 0s 169ms/step\n",
      "1/1 [==============================] - 0s 169ms/step\n",
      "1/1 [==============================] - 0s 169ms/step\n",
      "1/1 [==============================] - 0s 178ms/step\n",
      "1/1 [==============================] - 0s 178ms/step\n",
      "1/1 [==============================] - 0s 178ms/step\n",
      "1/1 [==============================] - 0s 178ms/step\n",
      "1/1 [==============================] - 0s 178ms/step\n",
      "1/1 [==============================] - 0s 178ms/step\n",
      "1/1 [==============================] - 0s 178ms/step\n",
      "1/1 [==============================] - 0s 178ms/step\n",
      "1/1 [==============================] - 0s 178ms/step\n",
      "1/1 [==============================] - 0s 178ms/step\n",
      "1/1 [==============================] - 0s 163ms/step\n",
      "1/1 [==============================] - 0s 169ms/step\n",
      "1/1 [==============================] - 0s 169ms/step\n",
      "1/1 [==============================] - 0s 178ms/step\n",
      "1/1 [==============================] - 0s 178ms/step\n",
      "1/1 [==============================] - 0s 169ms/step\n",
      "1/1 [==============================] - 0s 185ms/step\n",
      "1/1 [==============================] - 0s 169ms/step\n",
      "1/1 [==============================] - 0s 169ms/step\n",
      "1/1 [==============================] - 0s 169ms/step\n",
      "1/1 [==============================] - 0s 169ms/step\n",
      "1/1 [==============================] - 0s 169ms/step\n",
      "1/1 [==============================] - 0s 185ms/step\n",
      "1/1 [==============================] - 0s 169ms/step\n",
      "1/1 [==============================] - 0s 169ms/step\n",
      "1/1 [==============================] - 0s 178ms/step\n",
      "1/1 [==============================] - 0s 163ms/step\n",
      "1/1 [==============================] - 0s 184ms/step\n"
     ]
    },
    {
     "name": "stdout",
     "output_type": "stream",
     "text": [
      "1/1 [==============================] - 0s 165ms/step\n",
      "1/1 [==============================] - 0s 178ms/step\n",
      "1/1 [==============================] - 0s 163ms/step\n",
      "1/1 [==============================] - 0s 171ms/step\n",
      "1/1 [==============================] - 0s 183ms/step\n",
      "1/1 [==============================] - 0s 169ms/step\n",
      "1/1 [==============================] - 0s 169ms/step\n",
      "1/1 [==============================] - 0s 169ms/step\n",
      "1/1 [==============================] - 0s 169ms/step\n",
      "1/1 [==============================] - 0s 185ms/step\n",
      "1/1 [==============================] - 0s 169ms/step\n",
      "1/1 [==============================] - 0s 169ms/step\n",
      "1/1 [==============================] - 0s 169ms/step\n",
      "1/1 [==============================] - 0s 178ms/step\n",
      "1/1 [==============================] - 0s 160ms/step\n",
      "1/1 [==============================] - 0s 163ms/step\n",
      "1/1 [==============================] - 0s 182ms/step\n",
      "1/1 [==============================] - 0s 163ms/step\n",
      "1/1 [==============================] - 0s 169ms/step\n",
      "1/1 [==============================] - 0s 169ms/step\n",
      "1/1 [==============================] - 0s 169ms/step\n",
      "1/1 [==============================] - 0s 169ms/step\n",
      "1/1 [==============================] - 0s 169ms/step\n",
      "1/1 [==============================] - 0s 169ms/step\n",
      "1/1 [==============================] - 0s 169ms/step\n",
      "1/1 [==============================] - 0s 169ms/step\n",
      "1/1 [==============================] - 0s 169ms/step\n",
      "1/1 [==============================] - 0s 169ms/step\n",
      "1/1 [==============================] - 0s 169ms/step\n",
      "1/1 [==============================] - 0s 185ms/step\n",
      "1/1 [==============================] - 0s 169ms/step\n",
      "1/1 [==============================] - 0s 169ms/step\n",
      "1/1 [==============================] - 0s 169ms/step\n",
      "1/1 [==============================] - 0s 185ms/step\n",
      "1/1 [==============================] - 0s 185ms/step\n",
      "1/1 [==============================] - 0s 185ms/step\n",
      "1/1 [==============================] - 0s 165ms/step\n",
      "1/1 [==============================] - 0s 183ms/step\n",
      "1/1 [==============================] - 0s 169ms/step\n",
      "1/1 [==============================] - 0s 183ms/step\n",
      "1/1 [==============================] - 0s 181ms/step\n",
      "1/1 [==============================] - 0s 183ms/step\n",
      "1/1 [==============================] - 0s 182ms/step\n",
      "1/1 [==============================] - 0s 185ms/step\n",
      "1/1 [==============================] - 0s 169ms/step\n",
      "1/1 [==============================] - 0s 169ms/step\n",
      "1/1 [==============================] - 0s 169ms/step\n",
      "1/1 [==============================] - 0s 169ms/step\n",
      "1/1 [==============================] - 0s 169ms/step\n",
      "1/1 [==============================] - 0s 174ms/step\n",
      "1/1 [==============================] - 0s 185ms/step\n",
      "1/1 [==============================] - 0s 178ms/step\n",
      "1/1 [==============================] - 0s 162ms/step\n",
      "1/1 [==============================] - 0s 178ms/step\n",
      "1/1 [==============================] - 0s 162ms/step\n",
      "1/1 [==============================] - 0s 185ms/step\n",
      "1/1 [==============================] - 0s 169ms/step\n",
      "1/1 [==============================] - 0s 169ms/step\n",
      "1/1 [==============================] - 0s 169ms/step\n",
      "1/1 [==============================] - 0s 169ms/step\n",
      "1/1 [==============================] - 0s 169ms/step\n",
      "1/1 [==============================] - 0s 169ms/step\n",
      "1/1 [==============================] - 0s 169ms/step\n",
      "1/1 [==============================] - 0s 169ms/step\n",
      "1/1 [==============================] - 0s 180ms/step\n",
      "1/1 [==============================] - 0s 185ms/step\n",
      "1/1 [==============================] - 0s 170ms/step\n",
      "1/1 [==============================] - 0s 162ms/step\n",
      "1/1 [==============================] - 0s 178ms/step\n",
      "1/1 [==============================] - 0s 178ms/step\n",
      "1/1 [==============================] - 0s 178ms/step\n",
      "1/1 [==============================] - 0s 178ms/step\n",
      "1/1 [==============================] - 0s 178ms/step\n",
      "1/1 [==============================] - 0s 194ms/step\n",
      "1/1 [==============================] - 0s 182ms/step\n",
      "1/1 [==============================] - 0s 178ms/step\n",
      "1/1 [==============================] - 0s 163ms/step\n",
      "1/1 [==============================] - 0s 178ms/step\n",
      "1/1 [==============================] - 0s 178ms/step\n",
      "1/1 [==============================] - 0s 178ms/step\n",
      "1/1 [==============================] - 0s 178ms/step\n",
      "1/1 [==============================] - 0s 188ms/step\n",
      "1/1 [==============================] - 0s 178ms/step\n",
      "1/1 [==============================] - 0s 163ms/step\n",
      "1/1 [==============================] - 0s 172ms/step\n",
      "1/1 [==============================] - 0s 182ms/step\n",
      "1/1 [==============================] - 0s 169ms/step\n",
      "1/1 [==============================] - 0s 166ms/step\n",
      "1/1 [==============================] - 0s 173ms/step\n",
      "1/1 [==============================] - 0s 169ms/step\n",
      "1/1 [==============================] - 0s 169ms/step\n",
      "1/1 [==============================] - 0s 185ms/step\n",
      "1/1 [==============================] - 0s 169ms/step\n",
      "1/1 [==============================] - 0s 169ms/step\n",
      "1/1 [==============================] - 0s 178ms/step\n",
      "1/1 [==============================] - 0s 163ms/step\n",
      "1/1 [==============================] - 0s 178ms/step\n",
      "1/1 [==============================] - 0s 163ms/step\n",
      "1/1 [==============================] - 0s 169ms/step\n",
      "1/1 [==============================] - 0s 185ms/step\n",
      "1/1 [==============================] - 0s 169ms/step\n",
      "1/1 [==============================] - 0s 185ms/step\n",
      "1/1 [==============================] - 0s 169ms/step\n",
      "1/1 [==============================] - 0s 169ms/step\n",
      "1/1 [==============================] - 0s 169ms/step\n",
      "1/1 [==============================] - 0s 169ms/step\n",
      "1/1 [==============================] - 0s 185ms/step\n",
      "1/1 [==============================] - 0s 169ms/step\n",
      "1/1 [==============================] - 0s 169ms/step\n",
      "1/1 [==============================] - 0s 163ms/step\n",
      "1/1 [==============================] - 0s 178ms/step\n",
      "1/1 [==============================] - 0s 178ms/step\n",
      "1/1 [==============================] - 0s 179ms/step\n",
      "1/1 [==============================] - 0s 177ms/step\n",
      "1/1 [==============================] - 0s 163ms/step\n",
      "1/1 [==============================] - 0s 182ms/step\n",
      "1/1 [==============================] - 0s 178ms/step\n",
      "1/1 [==============================] - 0s 178ms/step\n",
      "1/1 [==============================] - 0s 178ms/step\n",
      "1/1 [==============================] - 0s 168ms/step\n",
      "1/1 [==============================] - 0s 169ms/step\n",
      "1/1 [==============================] - 0s 194ms/step\n",
      "1/1 [==============================] - 0s 176ms/step\n",
      "1/1 [==============================] - 0s 187ms/step\n",
      "1/1 [==============================] - 0s 177ms/step\n",
      "1/1 [==============================] - 0s 173ms/step\n",
      "1/1 [==============================] - 0s 181ms/step\n",
      "1/1 [==============================] - 0s 169ms/step\n",
      "1/1 [==============================] - 0s 169ms/step\n",
      "1/1 [==============================] - 0s 169ms/step\n",
      "1/1 [==============================] - 0s 168ms/step\n",
      "1/1 [==============================] - 0s 185ms/step\n",
      "1/1 [==============================] - 0s 169ms/step\n",
      "1/1 [==============================] - 0s 169ms/step\n",
      "1/1 [==============================] - 0s 179ms/step\n",
      "1/1 [==============================] - 0s 164ms/step\n",
      "1/1 [==============================] - 0s 178ms/step\n",
      "1/1 [==============================] - 0s 178ms/step\n",
      "1/1 [==============================] - 0s 163ms/step\n",
      "1/1 [==============================] - 0s 169ms/step\n",
      "1/1 [==============================] - 0s 182ms/step\n",
      "1/1 [==============================] - 0s 166ms/step\n",
      "1/1 [==============================] - 0s 185ms/step\n",
      "1/1 [==============================] - 0s 169ms/step\n",
      "1/1 [==============================] - 0s 154ms/step\n",
      "1/1 [==============================] - 0s 169ms/step\n",
      "1/1 [==============================] - 0s 169ms/step\n",
      "1/1 [==============================] - 0s 169ms/step\n",
      "1/1 [==============================] - 0s 169ms/step\n",
      "1/1 [==============================] - 0s 154ms/step\n",
      "1/1 [==============================] - 0s 169ms/step\n",
      "1/1 [==============================] - 0s 163ms/step\n",
      "1/1 [==============================] - 0s 163ms/step\n",
      "1/1 [==============================] - 0s 178ms/step\n"
     ]
    },
    {
     "name": "stdout",
     "output_type": "stream",
     "text": [
      "1/1 [==============================] - 0s 178ms/step\n",
      "1/1 [==============================] - 0s 169ms/step\n",
      "1/1 [==============================] - 0s 169ms/step\n",
      "1/1 [==============================] - 0s 169ms/step\n",
      "1/1 [==============================] - 0s 169ms/step\n",
      "1/1 [==============================] - 0s 169ms/step\n",
      "1/1 [==============================] - 0s 169ms/step\n",
      "1/1 [==============================] - 0s 169ms/step\n",
      "1/1 [==============================] - 0s 188ms/step\n",
      "1/1 [==============================] - 0s 166ms/step\n",
      "1/1 [==============================] - 0s 185ms/step\n",
      "1/1 [==============================] - 0s 169ms/step\n",
      "1/1 [==============================] - 0s 168ms/step\n",
      "1/1 [==============================] - 0s 169ms/step\n",
      "1/1 [==============================] - 0s 169ms/step\n",
      "1/1 [==============================] - 0s 169ms/step\n",
      "1/1 [==============================] - 0s 169ms/step\n",
      "1/1 [==============================] - 0s 178ms/step\n",
      "1/1 [==============================] - 0s 178ms/step\n",
      "1/1 [==============================] - 0s 163ms/step\n",
      "1/1 [==============================] - 0s 178ms/step\n",
      "1/1 [==============================] - 0s 163ms/step\n",
      "1/1 [==============================] - 0s 164ms/step\n",
      "1/1 [==============================] - 0s 183ms/step\n",
      "1/1 [==============================] - 0s 185ms/step\n",
      "1/1 [==============================] - 0s 163ms/step\n",
      "1/1 [==============================] - 0s 169ms/step\n",
      "1/1 [==============================] - 0s 178ms/step\n",
      "1/1 [==============================] - 0s 178ms/step\n",
      "1/1 [==============================] - 0s 178ms/step\n",
      "1/1 [==============================] - 0s 178ms/step\n",
      "1/1 [==============================] - 0s 178ms/step\n",
      "1/1 [==============================] - 0s 173ms/step\n",
      "1/1 [==============================] - 0s 181ms/step\n",
      "1/1 [==============================] - 0s 169ms/step\n",
      "1/1 [==============================] - 0s 169ms/step\n",
      "1/1 [==============================] - 0s 185ms/step\n",
      "1/1 [==============================] - 0s 169ms/step\n",
      "1/1 [==============================] - 0s 185ms/step\n",
      "1/1 [==============================] - 0s 185ms/step\n",
      "1/1 [==============================] - 0s 185ms/step\n",
      "1/1 [==============================] - 0s 185ms/step\n",
      "1/1 [==============================] - 0s 169ms/step\n",
      "1/1 [==============================] - 0s 168ms/step\n",
      "1/1 [==============================] - 0s 169ms/step\n",
      "1/1 [==============================] - 0s 169ms/step\n",
      "1/1 [==============================] - 0s 172ms/step\n",
      "1/1 [==============================] - 0s 173ms/step\n",
      "1/1 [==============================] - 0s 193ms/step\n",
      "1/1 [==============================] - 0s 180ms/step\n",
      "1/1 [==============================] - 0s 185ms/step\n",
      "1/1 [==============================] - 0s 181ms/step\n",
      "1/1 [==============================] - 0s 173ms/step\n",
      "1/1 [==============================] - 0s 165ms/step\n",
      "1/1 [==============================] - 0s 169ms/step\n",
      "1/1 [==============================] - 0s 169ms/step\n",
      "1/1 [==============================] - 0s 169ms/step\n",
      "1/1 [==============================] - 0s 189ms/step\n",
      "1/1 [==============================] - 0s 178ms/step\n",
      "1/1 [==============================] - 0s 163ms/step\n",
      "1/1 [==============================] - 0s 178ms/step\n",
      "1/1 [==============================] - 0s 163ms/step\n",
      "1/1 [==============================] - 0s 169ms/step\n",
      "1/1 [==============================] - 0s 185ms/step\n",
      "1/1 [==============================] - 0s 169ms/step\n",
      "1/1 [==============================] - 0s 169ms/step\n",
      "1/1 [==============================] - 0s 169ms/step\n",
      "1/1 [==============================] - 0s 169ms/step\n",
      "1/1 [==============================] - 0s 169ms/step\n",
      "1/1 [==============================] - 0s 169ms/step\n",
      "1/1 [==============================] - 0s 169ms/step\n",
      "1/1 [==============================] - 0s 169ms/step\n",
      "1/1 [==============================] - 0s 169ms/step\n",
      "1/1 [==============================] - 0s 178ms/step\n",
      "1/1 [==============================] - 0s 163ms/step\n",
      "1/1 [==============================] - 0s 163ms/step\n",
      "1/1 [==============================] - 0s 178ms/step\n",
      "1/1 [==============================] - 0s 163ms/step\n",
      "1/1 [==============================] - 0s 169ms/step\n",
      "1/1 [==============================] - 0s 169ms/step\n",
      "1/1 [==============================] - 0s 169ms/step\n",
      "1/1 [==============================] - 0s 169ms/step\n",
      "1/1 [==============================] - 0s 169ms/step\n",
      "1/1 [==============================] - 0s 169ms/step\n",
      "1/1 [==============================] - 0s 185ms/step\n",
      "1/1 [==============================] - 0s 169ms/step\n",
      "1/1 [==============================] - 0s 169ms/step\n",
      "1/1 [==============================] - 0s 178ms/step\n",
      "1/1 [==============================] - 0s 182ms/step\n",
      "1/1 [==============================] - 0s 171ms/step\n",
      "1/1 [==============================] - 0s 165ms/step\n",
      "1/1 [==============================] - 0s 163ms/step\n",
      "1/1 [==============================] - 0s 163ms/step\n",
      "1/1 [==============================] - 0s 169ms/step\n",
      "1/1 [==============================] - 0s 185ms/step\n",
      "1/1 [==============================] - 0s 169ms/step\n",
      "1/1 [==============================] - 0s 169ms/step\n",
      "1/1 [==============================] - 0s 154ms/step\n",
      "1/1 [==============================] - 0s 169ms/step\n",
      "1/1 [==============================] - 0s 169ms/step\n",
      "1/1 [==============================] - 0s 185ms/step\n",
      "1/1 [==============================] - 0s 169ms/step\n",
      "1/1 [==============================] - 0s 169ms/step\n",
      "1/1 [==============================] - 0s 169ms/step\n",
      "1/1 [==============================] - 0s 178ms/step\n",
      "1/1 [==============================] - 0s 178ms/step\n",
      "1/1 [==============================] - 0s 163ms/step\n",
      "1/1 [==============================] - 0s 178ms/step\n",
      "1/1 [==============================] - 0s 169ms/step\n",
      "1/1 [==============================] - 0s 169ms/step\n",
      "1/1 [==============================] - 0s 169ms/step\n",
      "1/1 [==============================] - 0s 169ms/step\n",
      "1/1 [==============================] - 0s 169ms/step\n",
      "1/1 [==============================] - 0s 169ms/step\n",
      "1/1 [==============================] - 0s 169ms/step\n",
      "1/1 [==============================] - 0s 185ms/step\n",
      "1/1 [==============================] - 0s 185ms/step\n",
      "1/1 [==============================] - 0s 169ms/step\n",
      "1/1 [==============================] - 0s 178ms/step\n",
      "1/1 [==============================] - 0s 163ms/step\n",
      "1/1 [==============================] - 0s 194ms/step\n",
      "1/1 [==============================] - 0s 185ms/step\n",
      "1/1 [==============================] - 0s 185ms/step\n",
      "1/1 [==============================] - 0s 185ms/step\n",
      "1/1 [==============================] - 0s 183ms/step\n",
      "1/1 [==============================] - 0s 185ms/step\n",
      "1/1 [==============================] - 0s 185ms/step\n",
      "1/1 [==============================] - 0s 183ms/step\n",
      "1/1 [==============================] - 0s 172ms/step\n",
      "1/1 [==============================] - 0s 178ms/step\n",
      "1/1 [==============================] - 0s 185ms/step\n",
      "1/1 [==============================] - 0s 182ms/step\n",
      "1/1 [==============================] - 0s 172ms/step\n",
      "1/1 [==============================] - 0s 169ms/step\n",
      "1/1 [==============================] - 0s 169ms/step\n",
      "1/1 [==============================] - 0s 185ms/step\n",
      "1/1 [==============================] - 0s 178ms/step\n",
      "1/1 [==============================] - 0s 163ms/step\n",
      "1/1 [==============================] - 0s 178ms/step\n",
      "1/1 [==============================] - 0s 167ms/step\n",
      "1/1 [==============================] - 0s 169ms/step\n",
      "1/1 [==============================] - 0s 169ms/step\n",
      "1/1 [==============================] - 0s 169ms/step\n",
      "1/1 [==============================] - 0s 169ms/step\n",
      "1/1 [==============================] - 0s 169ms/step\n",
      "1/1 [==============================] - 0s 184ms/step\n",
      "1/1 [==============================] - 0s 185ms/step\n",
      "1/1 [==============================] - 0s 169ms/step\n",
      "1/1 [==============================] - 0s 178ms/step\n",
      "1/1 [==============================] - 0s 163ms/step\n",
      "1/1 [==============================] - 0s 178ms/step\n",
      "1/1 [==============================] - 0s 163ms/step\n",
      "1/1 [==============================] - 0s 169ms/step\n",
      "1/1 [==============================] - 0s 169ms/step\n"
     ]
    },
    {
     "name": "stdout",
     "output_type": "stream",
     "text": [
      "1/1 [==============================] - 0s 154ms/step\n",
      "1/1 [==============================] - 0s 169ms/step\n",
      "1/1 [==============================] - 0s 169ms/step\n",
      "1/1 [==============================] - 0s 169ms/step\n",
      "1/1 [==============================] - 0s 169ms/step\n",
      "1/1 [==============================] - 0s 169ms/step\n",
      "1/1 [==============================] - 0s 169ms/step\n",
      "1/1 [==============================] - 0s 185ms/step\n",
      "1/1 [==============================] - 0s 178ms/step\n",
      "1/1 [==============================] - 0s 168ms/step\n",
      "1/1 [==============================] - 0s 162ms/step\n",
      "1/1 [==============================] - 0s 163ms/step\n",
      "1/1 [==============================] - 0s 169ms/step\n",
      "1/1 [==============================] - 0s 169ms/step\n",
      "1/1 [==============================] - 0s 185ms/step\n",
      "1/1 [==============================] - 0s 169ms/step\n",
      "1/1 [==============================] - 0s 154ms/step\n",
      "1/1 [==============================] - 0s 176ms/step\n",
      "1/1 [==============================] - 0s 162ms/step\n",
      "1/1 [==============================] - 0s 169ms/step\n",
      "1/1 [==============================] - 0s 169ms/step\n",
      "1/1 [==============================] - 0s 172ms/step\n",
      "1/1 [==============================] - 0s 167ms/step\n",
      "1/1 [==============================] - 0s 169ms/step\n",
      "1/1 [==============================] - 0s 178ms/step\n",
      "1/1 [==============================] - 0s 163ms/step\n",
      "1/1 [==============================] - 0s 163ms/step\n",
      "1/1 [==============================] - 0s 169ms/step\n",
      "1/1 [==============================] - 0s 169ms/step\n",
      "1/1 [==============================] - 0s 169ms/step\n",
      "1/1 [==============================] - 0s 173ms/step\n",
      "1/1 [==============================] - 0s 166ms/step\n",
      "1/1 [==============================] - 0s 169ms/step\n",
      "1/1 [==============================] - 0s 169ms/step\n",
      "1/1 [==============================] - 0s 184ms/step\n",
      "1/1 [==============================] - 0s 170ms/step\n",
      "1/1 [==============================] - 0s 169ms/step\n",
      "1/1 [==============================] - 0s 187ms/step\n",
      "1/1 [==============================] - 0s 182ms/step\n",
      "1/1 [==============================] - 0s 169ms/step\n",
      "1/1 [==============================] - 0s 169ms/step\n",
      "1/1 [==============================] - 0s 169ms/step\n",
      "1/1 [==============================] - 0s 167ms/step\n",
      "1/1 [==============================] - 0s 192ms/step\n",
      "1/1 [==============================] - 0s 170ms/step\n",
      "1/1 [==============================] - 0s 178ms/step\n",
      "1/1 [==============================] - 0s 163ms/step\n",
      "1/1 [==============================] - 0s 185ms/step\n",
      "1/1 [==============================] - 0s 185ms/step\n",
      "1/1 [==============================] - 0s 163ms/step\n",
      "1/1 [==============================] - 0s 169ms/step\n",
      "1/1 [==============================] - 0s 169ms/step\n",
      "1/1 [==============================] - 0s 169ms/step\n",
      "1/1 [==============================] - 0s 185ms/step\n",
      "1/1 [==============================] - 0s 169ms/step\n",
      "1/1 [==============================] - 0s 170ms/step\n",
      "1/1 [==============================] - 0s 174ms/step\n",
      "1/1 [==============================] - 0s 172ms/step\n",
      "1/1 [==============================] - 0s 193ms/step\n",
      "1/1 [==============================] - 0s 203ms/step\n",
      "1/1 [==============================] - 0s 173ms/step\n",
      "1/1 [==============================] - 0s 169ms/step\n",
      "1/1 [==============================] - 0s 169ms/step\n"
     ]
    }
   ],
   "source": [
    "#Iteramos sobre el conjunto de test para obtener las probabilidades de cada etiqueta\n",
    "#y vamos rellenando nuestro dataframe\n",
    "for twt in df_test_clean['Tweet']:\n",
    "    tuit_encodings= tokenizer_transf([clean_text(twt, lemas=True)], truncation=True, padding='max_length', max_length=MAX_SEQUENCE_LENGTH, return_tensors=\"tf\")\n",
    "    test_dataset = tf.data.Dataset.from_tensor_slices((\n",
    "    dict(tuit_encodings)))\n",
    "    predict_transf = model.predict(test_dataset.batch(batch_size))\n",
    "    df_transf = pd.DataFrame(predict_transf, columns=['anger', 'anticipation', 'disgust', 'fear', 'joy', 'love', 'optimism', 'pessimism', 'sadness', 'surprise', 'trust'])\n",
    "    df_test_transf = df_test_transf.append(df_transf)"
   ]
  },
  {
   "cell_type": "code",
   "execution_count": 133,
   "id": "1e5fb242",
   "metadata": {
    "scrolled": false
   },
   "outputs": [
    {
     "data": {
      "text/html": [
       "<div>\n",
       "<style scoped>\n",
       "    .dataframe tbody tr th:only-of-type {\n",
       "        vertical-align: middle;\n",
       "    }\n",
       "\n",
       "    .dataframe tbody tr th {\n",
       "        vertical-align: top;\n",
       "    }\n",
       "\n",
       "    .dataframe thead th {\n",
       "        text-align: right;\n",
       "    }\n",
       "</style>\n",
       "<table border=\"1\" class=\"dataframe\">\n",
       "  <thead>\n",
       "    <tr style=\"text-align: right;\">\n",
       "      <th></th>\n",
       "      <th>anger</th>\n",
       "      <th>anticipation</th>\n",
       "      <th>disgust</th>\n",
       "      <th>fear</th>\n",
       "      <th>joy</th>\n",
       "      <th>love</th>\n",
       "      <th>optimism</th>\n",
       "      <th>pessimism</th>\n",
       "      <th>sadness</th>\n",
       "      <th>surprise</th>\n",
       "      <th>trust</th>\n",
       "    </tr>\n",
       "  </thead>\n",
       "  <tbody>\n",
       "    <tr>\n",
       "      <th>0</th>\n",
       "      <td>0.074486</td>\n",
       "      <td>0.598690</td>\n",
       "      <td>0.031398</td>\n",
       "      <td>0.032601</td>\n",
       "      <td>0.042821</td>\n",
       "      <td>0.013226</td>\n",
       "      <td>0.096093</td>\n",
       "      <td>0.113453</td>\n",
       "      <td>0.033164</td>\n",
       "      <td>0.092595</td>\n",
       "      <td>0.056260</td>\n",
       "    </tr>\n",
       "    <tr>\n",
       "      <th>0</th>\n",
       "      <td>0.024561</td>\n",
       "      <td>0.685346</td>\n",
       "      <td>0.027756</td>\n",
       "      <td>0.761937</td>\n",
       "      <td>0.060921</td>\n",
       "      <td>0.024974</td>\n",
       "      <td>0.069867</td>\n",
       "      <td>0.195024</td>\n",
       "      <td>0.077027</td>\n",
       "      <td>0.233716</td>\n",
       "      <td>0.077132</td>\n",
       "    </tr>\n",
       "    <tr>\n",
       "      <th>0</th>\n",
       "      <td>0.223577</td>\n",
       "      <td>0.023344</td>\n",
       "      <td>0.164800</td>\n",
       "      <td>0.007995</td>\n",
       "      <td>0.866287</td>\n",
       "      <td>0.009905</td>\n",
       "      <td>0.048484</td>\n",
       "      <td>0.249730</td>\n",
       "      <td>0.029689</td>\n",
       "      <td>0.019358</td>\n",
       "      <td>0.018193</td>\n",
       "    </tr>\n",
       "    <tr>\n",
       "      <th>0</th>\n",
       "      <td>0.855251</td>\n",
       "      <td>0.130594</td>\n",
       "      <td>0.355939</td>\n",
       "      <td>0.121438</td>\n",
       "      <td>0.035181</td>\n",
       "      <td>0.031249</td>\n",
       "      <td>0.063823</td>\n",
       "      <td>0.021721</td>\n",
       "      <td>0.012554</td>\n",
       "      <td>0.057731</td>\n",
       "      <td>0.076906</td>\n",
       "    </tr>\n",
       "    <tr>\n",
       "      <th>0</th>\n",
       "      <td>0.919511</td>\n",
       "      <td>0.009208</td>\n",
       "      <td>0.668902</td>\n",
       "      <td>0.026127</td>\n",
       "      <td>0.067420</td>\n",
       "      <td>0.015442</td>\n",
       "      <td>0.012956</td>\n",
       "      <td>0.101244</td>\n",
       "      <td>0.258121</td>\n",
       "      <td>0.018322</td>\n",
       "      <td>0.014412</td>\n",
       "    </tr>\n",
       "    <tr>\n",
       "      <th>...</th>\n",
       "      <td>...</td>\n",
       "      <td>...</td>\n",
       "      <td>...</td>\n",
       "      <td>...</td>\n",
       "      <td>...</td>\n",
       "      <td>...</td>\n",
       "      <td>...</td>\n",
       "      <td>...</td>\n",
       "      <td>...</td>\n",
       "      <td>...</td>\n",
       "      <td>...</td>\n",
       "    </tr>\n",
       "    <tr>\n",
       "      <th>0</th>\n",
       "      <td>0.196367</td>\n",
       "      <td>0.326021</td>\n",
       "      <td>0.222408</td>\n",
       "      <td>0.774620</td>\n",
       "      <td>0.311380</td>\n",
       "      <td>0.057771</td>\n",
       "      <td>0.074106</td>\n",
       "      <td>0.068661</td>\n",
       "      <td>0.011928</td>\n",
       "      <td>0.306381</td>\n",
       "      <td>0.228492</td>\n",
       "    </tr>\n",
       "    <tr>\n",
       "      <th>0</th>\n",
       "      <td>0.028176</td>\n",
       "      <td>0.434821</td>\n",
       "      <td>0.028803</td>\n",
       "      <td>0.011104</td>\n",
       "      <td>0.741200</td>\n",
       "      <td>0.047685</td>\n",
       "      <td>0.686097</td>\n",
       "      <td>0.098342</td>\n",
       "      <td>0.013536</td>\n",
       "      <td>0.059455</td>\n",
       "      <td>0.166309</td>\n",
       "    </tr>\n",
       "    <tr>\n",
       "      <th>0</th>\n",
       "      <td>0.017730</td>\n",
       "      <td>0.042655</td>\n",
       "      <td>0.017160</td>\n",
       "      <td>0.018222</td>\n",
       "      <td>0.987937</td>\n",
       "      <td>0.116938</td>\n",
       "      <td>0.194948</td>\n",
       "      <td>0.024933</td>\n",
       "      <td>0.018764</td>\n",
       "      <td>0.025281</td>\n",
       "      <td>0.034329</td>\n",
       "    </tr>\n",
       "    <tr>\n",
       "      <th>0</th>\n",
       "      <td>0.854026</td>\n",
       "      <td>0.040857</td>\n",
       "      <td>0.670052</td>\n",
       "      <td>0.204215</td>\n",
       "      <td>0.013134</td>\n",
       "      <td>0.007814</td>\n",
       "      <td>0.008314</td>\n",
       "      <td>0.097714</td>\n",
       "      <td>0.052448</td>\n",
       "      <td>0.044105</td>\n",
       "      <td>0.019731</td>\n",
       "    </tr>\n",
       "    <tr>\n",
       "      <th>0</th>\n",
       "      <td>0.022251</td>\n",
       "      <td>0.234816</td>\n",
       "      <td>0.013168</td>\n",
       "      <td>0.012686</td>\n",
       "      <td>0.592794</td>\n",
       "      <td>0.342518</td>\n",
       "      <td>0.349962</td>\n",
       "      <td>0.013899</td>\n",
       "      <td>0.029008</td>\n",
       "      <td>0.048005</td>\n",
       "      <td>0.083195</td>\n",
       "    </tr>\n",
       "  </tbody>\n",
       "</table>\n",
       "<p>679 rows × 11 columns</p>\n",
       "</div>"
      ],
      "text/plain": [
       "       anger  anticipation   disgust      fear       joy      love  optimism  \\\n",
       "0   0.074486      0.598690  0.031398  0.032601  0.042821  0.013226  0.096093   \n",
       "0   0.024561      0.685346  0.027756  0.761937  0.060921  0.024974  0.069867   \n",
       "0   0.223577      0.023344  0.164800  0.007995  0.866287  0.009905  0.048484   \n",
       "0   0.855251      0.130594  0.355939  0.121438  0.035181  0.031249  0.063823   \n",
       "0   0.919511      0.009208  0.668902  0.026127  0.067420  0.015442  0.012956   \n",
       "..       ...           ...       ...       ...       ...       ...       ...   \n",
       "0   0.196367      0.326021  0.222408  0.774620  0.311380  0.057771  0.074106   \n",
       "0   0.028176      0.434821  0.028803  0.011104  0.741200  0.047685  0.686097   \n",
       "0   0.017730      0.042655  0.017160  0.018222  0.987937  0.116938  0.194948   \n",
       "0   0.854026      0.040857  0.670052  0.204215  0.013134  0.007814  0.008314   \n",
       "0   0.022251      0.234816  0.013168  0.012686  0.592794  0.342518  0.349962   \n",
       "\n",
       "    pessimism   sadness  surprise     trust  \n",
       "0    0.113453  0.033164  0.092595  0.056260  \n",
       "0    0.195024  0.077027  0.233716  0.077132  \n",
       "0    0.249730  0.029689  0.019358  0.018193  \n",
       "0    0.021721  0.012554  0.057731  0.076906  \n",
       "0    0.101244  0.258121  0.018322  0.014412  \n",
       "..        ...       ...       ...       ...  \n",
       "0    0.068661  0.011928  0.306381  0.228492  \n",
       "0    0.098342  0.013536  0.059455  0.166309  \n",
       "0    0.024933  0.018764  0.025281  0.034329  \n",
       "0    0.097714  0.052448  0.044105  0.019731  \n",
       "0    0.013899  0.029008  0.048005  0.083195  \n",
       "\n",
       "[679 rows x 11 columns]"
      ]
     },
     "execution_count": 133,
     "metadata": {},
     "output_type": "execute_result"
    }
   ],
   "source": [
    "df_test_transf"
   ]
  },
  {
   "cell_type": "code",
   "execution_count": 134,
   "id": "879d35e2",
   "metadata": {},
   "outputs": [
    {
     "name": "stdout",
     "output_type": "stream",
     "text": [
      "<class 'pandas.core.series.Series'>\n",
      "<class 'pandas.core.series.Series'>\n",
      "<class 'pandas.core.series.Series'>\n",
      "<class 'pandas.core.series.Series'>\n",
      "<class 'pandas.core.series.Series'>\n",
      "<class 'pandas.core.series.Series'>\n",
      "<class 'pandas.core.series.Series'>\n",
      "<class 'pandas.core.series.Series'>\n",
      "<class 'pandas.core.series.Series'>\n",
      "<class 'pandas.core.series.Series'>\n",
      "<class 'pandas.core.series.Series'>\n"
     ]
    }
   ],
   "source": [
    "#Establecemos el criterio de True/False para que todos aquellos resultados\n",
    "#mayores o iguales al 50% sean True y el resto False\n",
    "for i in df_test_transf:\n",
    "    print(type(df_test_transf[i]))\n",
    "    df_test_transf.loc[df_test_transf[i] >= 0.5, i] = True\n",
    "    df_test_transf.loc[df_test_transf[i] <= 0.5, i] = False"
   ]
  },
  {
   "cell_type": "code",
   "execution_count": 135,
   "id": "536be854",
   "metadata": {
    "scrolled": true
   },
   "outputs": [
    {
     "data": {
      "text/html": [
       "<div>\n",
       "<style scoped>\n",
       "    .dataframe tbody tr th:only-of-type {\n",
       "        vertical-align: middle;\n",
       "    }\n",
       "\n",
       "    .dataframe tbody tr th {\n",
       "        vertical-align: top;\n",
       "    }\n",
       "\n",
       "    .dataframe thead th {\n",
       "        text-align: right;\n",
       "    }\n",
       "</style>\n",
       "<table border=\"1\" class=\"dataframe\">\n",
       "  <thead>\n",
       "    <tr style=\"text-align: right;\">\n",
       "      <th></th>\n",
       "      <th>ID</th>\n",
       "      <th>anger</th>\n",
       "      <th>anticipation</th>\n",
       "      <th>disgust</th>\n",
       "      <th>fear</th>\n",
       "      <th>joy</th>\n",
       "      <th>love</th>\n",
       "      <th>optimism</th>\n",
       "      <th>pessimism</th>\n",
       "      <th>sadness</th>\n",
       "      <th>surprise</th>\n",
       "      <th>trust</th>\n",
       "    </tr>\n",
       "  </thead>\n",
       "  <tbody>\n",
       "    <tr>\n",
       "      <th>0</th>\n",
       "      <td>2018-Es-01643</td>\n",
       "      <td>False</td>\n",
       "      <td>True</td>\n",
       "      <td>False</td>\n",
       "      <td>False</td>\n",
       "      <td>False</td>\n",
       "      <td>False</td>\n",
       "      <td>False</td>\n",
       "      <td>False</td>\n",
       "      <td>False</td>\n",
       "      <td>False</td>\n",
       "      <td>False</td>\n",
       "    </tr>\n",
       "    <tr>\n",
       "      <th>1</th>\n",
       "      <td>2018-Es-01643</td>\n",
       "      <td>False</td>\n",
       "      <td>True</td>\n",
       "      <td>False</td>\n",
       "      <td>True</td>\n",
       "      <td>False</td>\n",
       "      <td>False</td>\n",
       "      <td>False</td>\n",
       "      <td>False</td>\n",
       "      <td>False</td>\n",
       "      <td>False</td>\n",
       "      <td>False</td>\n",
       "    </tr>\n",
       "    <tr>\n",
       "      <th>2</th>\n",
       "      <td>2018-Es-01643</td>\n",
       "      <td>False</td>\n",
       "      <td>False</td>\n",
       "      <td>False</td>\n",
       "      <td>False</td>\n",
       "      <td>True</td>\n",
       "      <td>False</td>\n",
       "      <td>False</td>\n",
       "      <td>False</td>\n",
       "      <td>False</td>\n",
       "      <td>False</td>\n",
       "      <td>False</td>\n",
       "    </tr>\n",
       "    <tr>\n",
       "      <th>3</th>\n",
       "      <td>2018-Es-01643</td>\n",
       "      <td>True</td>\n",
       "      <td>False</td>\n",
       "      <td>False</td>\n",
       "      <td>False</td>\n",
       "      <td>False</td>\n",
       "      <td>False</td>\n",
       "      <td>False</td>\n",
       "      <td>False</td>\n",
       "      <td>False</td>\n",
       "      <td>False</td>\n",
       "      <td>False</td>\n",
       "    </tr>\n",
       "    <tr>\n",
       "      <th>4</th>\n",
       "      <td>2018-Es-01643</td>\n",
       "      <td>True</td>\n",
       "      <td>False</td>\n",
       "      <td>True</td>\n",
       "      <td>False</td>\n",
       "      <td>False</td>\n",
       "      <td>False</td>\n",
       "      <td>False</td>\n",
       "      <td>False</td>\n",
       "      <td>False</td>\n",
       "      <td>False</td>\n",
       "      <td>False</td>\n",
       "    </tr>\n",
       "    <tr>\n",
       "      <th>...</th>\n",
       "      <td>...</td>\n",
       "      <td>...</td>\n",
       "      <td>...</td>\n",
       "      <td>...</td>\n",
       "      <td>...</td>\n",
       "      <td>...</td>\n",
       "      <td>...</td>\n",
       "      <td>...</td>\n",
       "      <td>...</td>\n",
       "      <td>...</td>\n",
       "      <td>...</td>\n",
       "      <td>...</td>\n",
       "    </tr>\n",
       "    <tr>\n",
       "      <th>674</th>\n",
       "      <td>2018-Es-01643</td>\n",
       "      <td>False</td>\n",
       "      <td>False</td>\n",
       "      <td>False</td>\n",
       "      <td>True</td>\n",
       "      <td>False</td>\n",
       "      <td>False</td>\n",
       "      <td>False</td>\n",
       "      <td>False</td>\n",
       "      <td>False</td>\n",
       "      <td>False</td>\n",
       "      <td>False</td>\n",
       "    </tr>\n",
       "    <tr>\n",
       "      <th>675</th>\n",
       "      <td>2018-Es-01643</td>\n",
       "      <td>False</td>\n",
       "      <td>False</td>\n",
       "      <td>False</td>\n",
       "      <td>False</td>\n",
       "      <td>True</td>\n",
       "      <td>False</td>\n",
       "      <td>True</td>\n",
       "      <td>False</td>\n",
       "      <td>False</td>\n",
       "      <td>False</td>\n",
       "      <td>False</td>\n",
       "    </tr>\n",
       "    <tr>\n",
       "      <th>676</th>\n",
       "      <td>2018-Es-01643</td>\n",
       "      <td>False</td>\n",
       "      <td>False</td>\n",
       "      <td>False</td>\n",
       "      <td>False</td>\n",
       "      <td>True</td>\n",
       "      <td>False</td>\n",
       "      <td>False</td>\n",
       "      <td>False</td>\n",
       "      <td>False</td>\n",
       "      <td>False</td>\n",
       "      <td>False</td>\n",
       "    </tr>\n",
       "    <tr>\n",
       "      <th>677</th>\n",
       "      <td>2018-Es-01643</td>\n",
       "      <td>True</td>\n",
       "      <td>False</td>\n",
       "      <td>True</td>\n",
       "      <td>False</td>\n",
       "      <td>False</td>\n",
       "      <td>False</td>\n",
       "      <td>False</td>\n",
       "      <td>False</td>\n",
       "      <td>False</td>\n",
       "      <td>False</td>\n",
       "      <td>False</td>\n",
       "    </tr>\n",
       "    <tr>\n",
       "      <th>678</th>\n",
       "      <td>2018-Es-01643</td>\n",
       "      <td>False</td>\n",
       "      <td>False</td>\n",
       "      <td>False</td>\n",
       "      <td>False</td>\n",
       "      <td>True</td>\n",
       "      <td>False</td>\n",
       "      <td>False</td>\n",
       "      <td>False</td>\n",
       "      <td>False</td>\n",
       "      <td>False</td>\n",
       "      <td>False</td>\n",
       "    </tr>\n",
       "  </tbody>\n",
       "</table>\n",
       "<p>679 rows × 12 columns</p>\n",
       "</div>"
      ],
      "text/plain": [
       "                ID  anger anticipation disgust   fear    joy   love optimism  \\\n",
       "0    2018-Es-01643  False         True   False  False  False  False    False   \n",
       "1    2018-Es-01643  False         True   False   True  False  False    False   \n",
       "2    2018-Es-01643  False        False   False  False   True  False    False   \n",
       "3    2018-Es-01643   True        False   False  False  False  False    False   \n",
       "4    2018-Es-01643   True        False    True  False  False  False    False   \n",
       "..             ...    ...          ...     ...    ...    ...    ...      ...   \n",
       "674  2018-Es-01643  False        False   False   True  False  False    False   \n",
       "675  2018-Es-01643  False        False   False  False   True  False     True   \n",
       "676  2018-Es-01643  False        False   False  False   True  False    False   \n",
       "677  2018-Es-01643   True        False    True  False  False  False    False   \n",
       "678  2018-Es-01643  False        False   False  False   True  False    False   \n",
       "\n",
       "    pessimism sadness surprise  trust  \n",
       "0       False   False    False  False  \n",
       "1       False   False    False  False  \n",
       "2       False   False    False  False  \n",
       "3       False   False    False  False  \n",
       "4       False   False    False  False  \n",
       "..        ...     ...      ...    ...  \n",
       "674     False   False    False  False  \n",
       "675     False   False    False  False  \n",
       "676     False   False    False  False  \n",
       "677     False   False    False  False  \n",
       "678     False   False    False  False  \n",
       "\n",
       "[679 rows x 12 columns]"
      ]
     },
     "execution_count": 135,
     "metadata": {},
     "output_type": "execute_result"
    }
   ],
   "source": [
    "#Modificamos el índice de nuestro dataframe para que sea correlativo\n",
    "extract_col = df_train_clean['ID']\n",
    "df_test_transf.insert(0, 'ID', extract_col)\n",
    "df_test_transf = df_test_transf.reset_index(drop=True)\n",
    "df_test_transf"
   ]
  },
  {
   "cell_type": "code",
   "execution_count": 136,
   "id": "64d006fb",
   "metadata": {},
   "outputs": [],
   "source": [
    "#Creamos el archivo .csv con nuestros resultados\n",
    "import os  \n",
    "\n",
    "os.makedirs('C:/Users/Mari/Desktop/Master_IA/NLP/Ejer_eval_NLP/Delivery', exist_ok=True)  \n",
    "\n",
    "df_test_transf.to_csv('C:/Users/Mari/Desktop/Master_IA/NLP/Ejer_eval_NLP/Delivery/soluciones_m_angeles_garcia_escriva.csv')"
   ]
  }
 ],
 "metadata": {
  "kernelspec": {
   "display_name": "Python 3",
   "language": "python",
   "name": "python3"
  },
  "language_info": {
   "codemirror_mode": {
    "name": "ipython",
    "version": 3
   },
   "file_extension": ".py",
   "mimetype": "text/x-python",
   "name": "python",
   "nbconvert_exporter": "python",
   "pygments_lexer": "ipython3",
   "version": "3.8.8"
  }
 },
 "nbformat": 4,
 "nbformat_minor": 5
}
